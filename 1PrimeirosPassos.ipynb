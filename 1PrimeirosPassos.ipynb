{
  "cells": [
    {
      "cell_type": "markdown",
      "metadata": {
        "id": "view-in-github",
        "colab_type": "text"
      },
      "source": [
        "<a href=\"https://colab.research.google.com/github/RaphaelDdS/Alura_pythonDataScience/blob/main/1PrimeirosPassos.ipynb\" target=\"_parent\"><img src=\"https://colab.research.google.com/assets/colab-badge.svg\" alt=\"Open In Colab\"/></a>"
      ]
    },
    {
      "cell_type": "markdown",
      "metadata": {
        "id": "_kwAaQ36gLQ1"
      },
      "source": [
        "# Sobre o notebook\n",
        "\n",
        "A \"hora da prática\" é uma atividade do curso de Python para Data Science da Alura que contém diversos desafios envolvendo os aprendizados de cada aula.\n",
        "\n",
        "O notebook \"hora da pratica\" é um notebook construído com espaço para as células dos desafios propostos no curso, com ele você tem espaço para construir e executar suas soluções"
      ]
    },
    {
      "cell_type": "markdown",
      "metadata": {
        "id": "Mc-KN0dA0Z83"
      },
      "source": [
        "## Aula 1 - Introdução ao Python"
      ]
    },
    {
      "cell_type": "markdown",
      "metadata": {
        "id": "l5eLWf0W0ikn"
      },
      "source": [
        "### Questão 1\n",
        "\n",
        "Imprima a frase `Escola de Dados da Alura!`"
      ]
    },
    {
      "cell_type": "code",
      "execution_count": null,
      "metadata": {
        "colab": {
          "base_uri": "https://localhost:8080/"
        },
        "id": "5pllxJ0h0-yA",
        "outputId": "b8f4b1a0-94e1-4be4-ace5-714b92c011d2"
      },
      "outputs": [
        {
          "name": "stdout",
          "output_type": "stream",
          "text": [
            "Escola de Dados da ALura!\n"
          ]
        }
      ],
      "source": [
        "print('Escola de Dados da ALura!')"
      ]
    },
    {
      "cell_type": "markdown",
      "metadata": {
        "id": "tQdX90Ue03c7"
      },
      "source": [
        "### Questão 2\n",
        "Imprima na tela seu nome e seu sobrenome seguindo a estrutura abaixo:\n",
        "```\n",
        "Nome: [seu nome]\n",
        "Sobrenome: [seu sobrenome]\n",
        "```\n"
      ]
    },
    {
      "cell_type": "code",
      "execution_count": null,
      "metadata": {
        "colab": {
          "base_uri": "https://localhost:8080/"
        },
        "id": "RVw5iKn20_Ps",
        "outputId": "f7cf37a2-e3c2-4721-9760-b77390d2b701"
      },
      "outputs": [
        {
          "name": "stdout",
          "output_type": "stream",
          "text": [
            "Nome: Raphael \n",
            "Sobrenome: Domingues\n"
          ]
        }
      ],
      "source": [
        "nome = 'Raphael'\n",
        "sobrenome = 'Domingues'\n",
        "\n",
        "print(f'Nome: {nome} \\nSobrenome: {sobrenome}')"
      ]
    },
    {
      "cell_type": "markdown",
      "metadata": {
        "id": "gfg-aiip03vC"
      },
      "source": [
        "### Questão 3\n",
        "Imprima o seu primeiro nome letra a letra. Por exemplo, nome é Mirla, então eu obtenho a seguinte saída:\n",
        "```\n",
        "M\n",
        "I\n",
        "R\n",
        "L\n",
        "A\n",
        "```\n"
      ]
    },
    {
      "cell_type": "code",
      "execution_count": null,
      "metadata": {
        "colab": {
          "base_uri": "https://localhost:8080/"
        },
        "id": "v5bkrgf60_qx",
        "outputId": "e9186a47-6c0d-4f81-c774-03423186caea"
      },
      "outputs": [
        {
          "name": "stdout",
          "output_type": "stream",
          "text": [
            "R \n",
            "A \n",
            "P \n",
            "H \n",
            "A \n",
            "E \n",
            "L\n"
          ]
        }
      ],
      "source": [
        "print(f'R \\nA \\nP \\nH \\nA \\nE \\nL')"
      ]
    },
    {
      "cell_type": "markdown",
      "metadata": {
        "id": "oadrJbl704MM"
      },
      "source": [
        "### Questão 4\n",
        "Imprima o dia do seu nascimento em formato `dia mês ano`. Os valores de dia e ano não podem estar entre aspas. O formato deve estar como no exemplo, supondo uma data de aniversário dia 28 de fevereiro de 2003:\n",
        "```\n",
        "28 fevereiro 2003\n",
        "```"
      ]
    },
    {
      "cell_type": "code",
      "execution_count": null,
      "metadata": {
        "colab": {
          "base_uri": "https://localhost:8080/"
        },
        "id": "cx0KSsrq1ALD",
        "outputId": "024b2c5b-830e-4ce5-9082-3ed7904667b3"
      },
      "outputs": [
        {
          "name": "stdout",
          "output_type": "stream",
          "text": [
            "9 Julho 1996\n"
          ]
        }
      ],
      "source": [
        "dia = 9\n",
        "mes = 'Julho'\n",
        "ano = 1996\n",
        "\n",
        "print(dia, mes, ano)"
      ]
    },
    {
      "cell_type": "markdown",
      "metadata": {
        "id": "3RgyMaan04TD"
      },
      "source": [
        "### Questão 5\n",
        "Imprima em um único print o atual ano que você está fazendo esse curso, o valor do ano deve ser um dado numérico. A saída do print deve ser a seguinte:\n",
        "```\n",
        "Ano atual: [ano]\n",
        "```\n"
      ]
    },
    {
      "cell_type": "code",
      "execution_count": null,
      "metadata": {
        "colab": {
          "base_uri": "https://localhost:8080/"
        },
        "id": "UN77EfQ2d36Y",
        "outputId": "f5d900e0-c347-4ba5-fc04-ab3b751194e6"
      },
      "outputs": [
        {
          "name": "stdout",
          "output_type": "stream",
          "text": [
            "Ano atual: 2024\n"
          ]
        }
      ],
      "source": [
        "ano_atual = 2024\n",
        "print(f'Ano atual: {ano_atual}')"
      ]
    },
    {
      "cell_type": "markdown",
      "metadata": {
        "id": "D9e3FqhO1S3X"
      },
      "source": [
        "## Aula 2 - Manipulando dados no Python"
      ]
    },
    {
      "cell_type": "markdown",
      "metadata": {
        "id": "n6o7C1Ze2cRe"
      },
      "source": [
        "### Coleta e amostragem de dados"
      ]
    },
    {
      "cell_type": "markdown",
      "metadata": {
        "id": "sRneWag9PV5Q"
      },
      "source": [
        "#### Questão 1\n",
        "Crie um programa que solicite à pessoa usuária digitar seu nome, e imprima “Olá, [nome]!”."
      ]
    },
    {
      "cell_type": "code",
      "execution_count": null,
      "metadata": {
        "colab": {
          "base_uri": "https://localhost:8080/"
        },
        "id": "dbX1fKqy2HnE",
        "outputId": "8b2354fc-c3c2-4b3a-9ae3-6ac8c29f499e"
      },
      "outputs": [
        {
          "name": "stdout",
          "output_type": "stream",
          "text": [
            "Digite seu nome: Raphael\n",
            "Olá, Raphael!\n"
          ]
        }
      ],
      "source": [
        "nome = input('Digite seu nome: ')\n",
        "print(f'Olá, {nome}!')"
      ]
    },
    {
      "cell_type": "markdown",
      "metadata": {
        "id": "BJ1SznEp70d5"
      },
      "source": [
        "#### Questão 2\n",
        "Crie um programa que solicite à pessoa usuária digitar seu nome e idade, e imprima “Olá, [nome], você tem [idade] anos.”."
      ]
    },
    {
      "cell_type": "code",
      "execution_count": null,
      "metadata": {
        "colab": {
          "base_uri": "https://localhost:8080/"
        },
        "id": "jKz-0Sq8PFkp",
        "outputId": "598210a7-3980-499a-d77f-2e653eb554b7"
      },
      "outputs": [
        {
          "name": "stdout",
          "output_type": "stream",
          "text": [
            "Digite seu nome: Raphael\n",
            "Digite sua idade: 27\n",
            "Olá, Raphael! Você tem 27 anos.\n"
          ]
        }
      ],
      "source": [
        "nome = input('Digite seu nome: ')\n",
        "idade = input('Digite sua idade: ')\n",
        "print(f'Olá, {nome}! Você tem {idade} anos.')"
      ]
    },
    {
      "cell_type": "markdown",
      "metadata": {
        "id": "2T0jNYZt70aa"
      },
      "source": [
        "#### Questão 3\n",
        "Crie um programa que solicite à pessoa usuária digitar seu nome, idade e altura em metros, e imprima “Olá, [nome], você tem [idade] anos e mede [altura] metros!”."
      ]
    },
    {
      "cell_type": "code",
      "execution_count": null,
      "metadata": {
        "colab": {
          "base_uri": "https://localhost:8080/"
        },
        "id": "pI4kHNzTPIXh",
        "outputId": "61d8ce69-c8ba-42a3-fdd6-b3860ac16a29"
      },
      "outputs": [
        {
          "name": "stdout",
          "output_type": "stream",
          "text": [
            "Insira seu nome: Raphael\n",
            "Insira sua idade: 27\n",
            "Insira sua altura em metros: 1.80\n",
            "Olá, Raphael, você tem 27 anos e mede 1.80 metros!\n"
          ]
        }
      ],
      "source": [
        "nome = input('Insira seu nome: ')\n",
        "idade = input('Insira sua idade: ')\n",
        "altura = input('Insira sua altura em metros: ')\n",
        "\n",
        "print(f'Olá, {nome}, você tem {idade} anos e mede {altura} metros!')"
      ]
    },
    {
      "cell_type": "markdown",
      "metadata": {
        "id": "mEBFwKkC70KP"
      },
      "source": [
        "### Calculadora com operadores"
      ]
    },
    {
      "cell_type": "markdown",
      "metadata": {
        "id": "H-IV1oAPPSqK"
      },
      "source": [
        "#### Questão 1\n",
        "\n",
        "Crie um programa que solicite dois valores numéricos à pessoa usuária e imprima a soma dos dois valores."
      ]
    },
    {
      "cell_type": "code",
      "execution_count": null,
      "metadata": {
        "colab": {
          "base_uri": "https://localhost:8080/"
        },
        "id": "Zb0W84sy8rnp",
        "outputId": "8582df88-1834-45ea-f7bb-04920804e34b"
      },
      "outputs": [
        {
          "name": "stdout",
          "output_type": "stream",
          "text": [
            "Insira primeiro valor: 9\n",
            "Insira segundo valor: 49\n",
            "A soma de 9 + 49 é: 58!\n"
          ]
        }
      ],
      "source": [
        "x = int(input('Insira primeiro valor: '))\n",
        "y = int(input('Insira segundo valor: '))\n",
        "total = x + y\n",
        "\n",
        "print(f'A soma de {x} + {y} é: {total}!')"
      ]
    },
    {
      "cell_type": "markdown",
      "metadata": {
        "id": "LUoi2MOu70Em"
      },
      "source": [
        "#### Questão 2\n",
        "Crie um programa que solicite três valores numéricos à pessoa usuária e imprima a soma dos três valores."
      ]
    },
    {
      "cell_type": "code",
      "execution_count": null,
      "metadata": {
        "colab": {
          "base_uri": "https://localhost:8080/"
        },
        "id": "4FYjWyBS8rDm",
        "outputId": "b02d0680-3392-4fc6-c3cf-4f88bd680b28"
      },
      "outputs": [
        {
          "name": "stdout",
          "output_type": "stream",
          "text": [
            "Insira o primeiro valor: 2\n",
            "Insira o segundo valor: 47\n",
            "Insira o terceiro valor: 3723\n",
            "Os valores inseridos foram: 2, 47 e 3723. A soma é: 3772\n"
          ]
        }
      ],
      "source": [
        "x = int(input('Insira o primeiro valor: '))\n",
        "y = int(input('Insira o segundo valor: '))\n",
        "z = int(input('Insira o terceiro valor: '))\n",
        "\n",
        "soma = x + y + z\n",
        "\n",
        "print(f'Os valores inseridos foram: {x}, {y} e {z}. A soma é: {soma}')"
      ]
    },
    {
      "cell_type": "markdown",
      "metadata": {
        "id": "lezGctF07z8i"
      },
      "source": [
        "#### Questão 3\n",
        "Crie um programa que solicite dois valores numéricos à pessoa usuária e imprima a subtração do primeiro pelo o segundo valor."
      ]
    },
    {
      "cell_type": "code",
      "execution_count": null,
      "metadata": {
        "colab": {
          "base_uri": "https://localhost:8080/"
        },
        "id": "k0GE1z4w8p3J",
        "outputId": "49a29b43-f3e2-4b86-f19e-7a050af6ecb5"
      },
      "outputs": [
        {
          "name": "stdout",
          "output_type": "stream",
          "text": [
            "Insira o primeiro valor: 24\n",
            "Insira o segundo valor: 3\n",
            "Os valores inseridos foram: 24 e 3. A subtração do primeiro pelo segundo valor é: 21!\n"
          ]
        }
      ],
      "source": [
        "x = int(input('Insira o primeiro valor: '))\n",
        "y = int(input('Insira o segundo valor: '))\n",
        "total = x - y\n",
        "\n",
        "print(f'Os valores inseridos foram: {x} e {y}. A subtração do primeiro pelo segundo valor é: {total}!')"
      ]
    },
    {
      "cell_type": "markdown",
      "metadata": {
        "id": "wwMP-dPU7zxW"
      },
      "source": [
        "#### Questão 4\n",
        "\n",
        "Crie um programa que solicite dois valores numéricos à pessoa usuária e imprima a multiplicação dos dois valores.\n"
      ]
    },
    {
      "cell_type": "code",
      "execution_count": null,
      "metadata": {
        "colab": {
          "base_uri": "https://localhost:8080/"
        },
        "id": "GzFCVHfp8peZ",
        "outputId": "4e9f047b-6011-4eb9-9dea-933977925eb2"
      },
      "outputs": [
        {
          "name": "stdout",
          "output_type": "stream",
          "text": [
            "Insira o primeiro valor: \n",
            "3\n",
            "Insira o segundo valor: \n",
            "6\n",
            "Os valores inseridos foram: 3 e 6! \n",
            "A multiplicação dos dois valores é: 18!\n"
          ]
        }
      ],
      "source": [
        "x = int(input('Insira o primeiro valor: \\n'))\n",
        "y = int(input('Insira o segundo valor: \\n'))\n",
        "total = x * y\n",
        "\n",
        "print(f'Os valores inseridos foram: {x} e {y}! \\nA multiplicação dos dois valores é: {total}!')"
      ]
    },
    {
      "cell_type": "markdown",
      "metadata": {
        "id": "9kxyHxUo7zRD"
      },
      "source": [
        "#### Questão 5\n",
        "\n",
        "Crie um programa que solicite dois valores numéricos, um numerador e um denominador, e realize a divisão entre os dois valores. Deixe claro que o valor do denominador não pode ser `0`.\n"
      ]
    },
    {
      "cell_type": "code",
      "execution_count": null,
      "metadata": {
        "colab": {
          "base_uri": "https://localhost:8080/"
        },
        "id": "ytJ8l5KH8ozc",
        "outputId": "2d887905-d26a-44f0-a4e4-63ea84fc9de0"
      },
      "outputs": [
        {
          "name": "stdout",
          "output_type": "stream",
          "text": [
            "Insira o primeiro valor (NUMERADOR): \n",
            "6\n",
            "Insira o segundo valor (DENOMINADOR, DIFERENTE DE ZERO): \n",
            "2\n",
            "Os números inseridos foram: 6 e 2! \n",
            "A divisão entre os dois valores é: 3.0!\n"
          ]
        }
      ],
      "source": [
        "x = int(input('Insira o primeiro valor (NUMERADOR): \\n'))\n",
        "y = int(input('Insira o segundo valor (DENOMINADOR, DIFERENTE DE ZERO): \\n'))\n",
        "\n",
        "while y == 0:\n",
        "  y = int(input('Insira o segundo valor (DENOMINADOR, DIFERENTE DE ZERO): \\n'))\n",
        "  if y != 0:\n",
        "    break\n",
        "\n",
        "total = x / y\n",
        "\n",
        "print(f'Os números inseridos foram: {x} e {y}! \\nA divisão entre os dois valores é: {total}!')"
      ]
    },
    {
      "cell_type": "markdown",
      "metadata": {
        "id": "zkUSBTQq8Hxt"
      },
      "source": [
        "#### Questão 6\n",
        "\n",
        "Crie um programa que solicite dois valores numéricos, um operador e uma potência, e realize a exponenciação entre esses dois valores.\n"
      ]
    },
    {
      "cell_type": "code",
      "execution_count": null,
      "metadata": {
        "colab": {
          "base_uri": "https://localhost:8080/"
        },
        "id": "RPj36jq08oZp",
        "outputId": "83755e29-9da7-4f2c-8f73-d1748943a751"
      },
      "outputs": [
        {
          "name": "stdout",
          "output_type": "stream",
          "text": [
            "Insira o primeiro valor (OPERADOR): \n",
            "4\n",
            "Insira o segundo valor (POTÊNCIA): \n",
            "6\n",
            "Os valores inseridos foram: 4 e 6! \n",
            "A exponenciação entre os dois valores é: 4096\n"
          ]
        }
      ],
      "source": [
        "x = int(input('Insira o primeiro valor (OPERADOR): \\n'))\n",
        "y = int(input('Insira o segundo valor (POTÊNCIA): \\n'))\n",
        "total = x ** y\n",
        "\n",
        "print(f'Os valores inseridos foram: {x} e {y}! \\nA exponenciação entre os dois valores é: {total}')\n",
        "\n"
      ]
    },
    {
      "cell_type": "markdown",
      "metadata": {
        "id": "yiunIusZ8Huj"
      },
      "source": [
        "#### Questão 7\n",
        "Crie um programa que solicite dois valores numéricos, um numerador e um denominador e realize a divisão inteira entre os dois valores. Deixe claro que o valor do denominador não pode ser `0`."
      ]
    },
    {
      "cell_type": "code",
      "execution_count": null,
      "metadata": {
        "colab": {
          "base_uri": "https://localhost:8080/"
        },
        "id": "UHK8xITf8oCg",
        "outputId": "dc82f855-05d9-4b65-8de0-1657492f3474"
      },
      "outputs": [
        {
          "name": "stdout",
          "output_type": "stream",
          "text": [
            "Insira o primeiro valor (NUMERADOR): \n",
            "29\n",
            "Insira o segundo valor (DENOMINADOR, DIFERENTE DE ZERO): \n",
            "4\n",
            "Os valores inseridos foram: 29 e 4! \n",
            "A divisão INTEIRA entre os dois valores é: 7!\n"
          ]
        }
      ],
      "source": [
        "x = int(input('Insira o primeiro valor (NUMERADOR): \\n'))\n",
        "y = int(input('Insira o segundo valor (DENOMINADOR, DIFERENTE DE ZERO): \\n'))\n",
        "\n",
        "while y == 0:\n",
        "  y = int(input('Insira o segundo valor (DENOMINADOR, DIFERENTE DE ZERO): \\n'))\n",
        "  if y != 0:\n",
        "    break\n",
        "\n",
        "total = x // y\n",
        "\n",
        "print(f'Os valores inseridos foram: {x} e {y}! \\nA divisão INTEIRA entre os dois valores é: {total}!')"
      ]
    },
    {
      "cell_type": "markdown",
      "metadata": {
        "id": "z_D_JiLX8Hra"
      },
      "source": [
        "#### Questão 8\n",
        "\n",
        "Crie um programa que solicite dois valores numéricos, um numerador e um denominador, e retorne o resto da divisão entre os dois valores. Deixe claro que o valor do denominador não pode ser `0`."
      ]
    },
    {
      "cell_type": "code",
      "execution_count": null,
      "metadata": {
        "colab": {
          "base_uri": "https://localhost:8080/"
        },
        "id": "EWGJeukO8nqx",
        "outputId": "41eaf252-4999-416c-fc59-34f568fccca0"
      },
      "outputs": [
        {
          "name": "stdout",
          "output_type": "stream",
          "text": [
            "Insira o primeiro valor (NUMERADOR): \n",
            "392\n",
            "Insira o segundo valor (DENOMINADOR, DIFERENTE DE ZERO): \n",
            "3\n",
            "Os valores inseridos foram: 392 e 3! \n",
            "O RESTO da divisão entre os dois valores é: 2!\n"
          ]
        }
      ],
      "source": [
        "x = int(input('Insira o primeiro valor (NUMERADOR): \\n'))\n",
        "y = int(input('Insira o segundo valor (DENOMINADOR, DIFERENTE DE ZERO): \\n'))\n",
        "\n",
        "while y == 0:\n",
        "  y = int(input('Insira o segundo valor (DENOMINADOR, DIFERENTE DE ZERO: \\n) '))\n",
        "  if y != 0:\n",
        "    break\n",
        "\n",
        "total = x % y\n",
        "\n",
        "print(f'Os valores inseridos foram: {x} e {y}! \\nO RESTO da divisão entre os dois valores é: {total}!')"
      ]
    },
    {
      "cell_type": "markdown",
      "metadata": {
        "id": "RDRajNkU8N8N"
      },
      "source": [
        "#### Questão 9\n",
        "\n",
        "Crie um código que solicita 3 notas de um estudante e imprima a média das notas."
      ]
    },
    {
      "cell_type": "code",
      "execution_count": null,
      "metadata": {
        "colab": {
          "base_uri": "https://localhost:8080/"
        },
        "id": "H6F4Ojzt8nSR",
        "outputId": "76cb205e-6392-4f4a-b2b0-c8c1b36dfae9"
      },
      "outputs": [
        {
          "name": "stdout",
          "output_type": "stream",
          "text": [
            "Insira a primeira nota: \n",
            "9\n",
            "Insira a segunda nota: 3\n",
            "Insira a terceira nota: 8\n",
            "As notas inseridas foram: 9, 3 e 8! \n",
            "A média é: 6.666666666666667!\n"
          ]
        }
      ],
      "source": [
        "x = int(input('Insira a primeira nota: \\n'))\n",
        "y = int(input('Insira a segunda nota: '))\n",
        "z = int(input('Insira a terceira nota: '))\n",
        "\n",
        "media = (x + y + z) / 3\n",
        "\n",
        "print(f'As notas inseridas foram: {x}, {y} e {z}! \\nA média é: {media}!')"
      ]
    },
    {
      "cell_type": "markdown",
      "metadata": {
        "id": "d7fjkne58N21"
      },
      "source": [
        "#### Questão 10\n",
        "\n",
        "Crie um código que calcule e imprima a média ponderada dos números 5, 12, 20 e 15 com pesos respectivamente iguais a 1, 2, 3 e 4."
      ]
    },
    {
      "cell_type": "code",
      "execution_count": null,
      "metadata": {
        "colab": {
          "base_uri": "https://localhost:8080/"
        },
        "id": "fwjoHlV48mkv",
        "outputId": "29460deb-2d28-481e-e730-a5539352c2a3"
      },
      "outputs": [
        {
          "name": "stdout",
          "output_type": "stream",
          "text": [
            "A média ponderada é: 14.9!\n"
          ]
        }
      ],
      "source": [
        "v1 = 5\n",
        "v2 = 12\n",
        "v3 = 20\n",
        "v4 = 15\n",
        "\n",
        "p1 = 1\n",
        "p2 = 2\n",
        "p3 = 3\n",
        "p4 = 4\n",
        "\n",
        "soma_ponderada = ((v1*p1)+(v2*p2)+(v3*p3)+(v4*p4))\n",
        "n = p1 + p2 + p3 + p4\n",
        "media_ponderada = soma_ponderada / n\n",
        "\n",
        "print(f\"A média ponderada é: {media_ponderada}!\")"
      ]
    },
    {
      "cell_type": "markdown",
      "metadata": {
        "id": "GNmbX1OU8N0V"
      },
      "source": [
        "### Editando textos"
      ]
    },
    {
      "cell_type": "markdown",
      "metadata": {
        "id": "6wZ85mCsRCV0"
      },
      "source": [
        "#### Questão 1\n",
        "\n",
        "Crie uma variável chamada “`frase`” e atribua a ela uma string de sua escolha. Em seguida, imprima a frase na tela."
      ]
    },
    {
      "cell_type": "code",
      "execution_count": null,
      "metadata": {
        "colab": {
          "base_uri": "https://localhost:8080/"
        },
        "id": "eRqr_gh-8mFy",
        "outputId": "a385d12b-1af8-4e26-cc97-51cb0e111631"
      },
      "outputs": [
        {
          "name": "stdout",
          "output_type": "stream",
          "text": [
            "Olha que frase legal!\n"
          ]
        }
      ],
      "source": [
        "frase = 'Olha que frase legal!'\n",
        "print(frase)"
      ]
    },
    {
      "cell_type": "markdown",
      "metadata": {
        "id": "Aac17z-18Nwv"
      },
      "source": [
        "#### Questão 2\n",
        "Crie um código que solicite uma frase e depois imprima a frase na tela."
      ]
    },
    {
      "cell_type": "code",
      "execution_count": null,
      "metadata": {
        "colab": {
          "base_uri": "https://localhost:8080/"
        },
        "id": "8zfE2hh98lb0",
        "outputId": "820f2710-1a59-4c30-ada6-53523a12b333"
      },
      "outputs": [
        {
          "name": "stdout",
          "output_type": "stream",
          "text": [
            "Digite uma frase: \n",
            "Olha essa frase!\n",
            "Olha essa frase!\n"
          ]
        }
      ],
      "source": [
        "frase = input('Digite uma frase: \\n')\n",
        "print(frase)"
      ]
    },
    {
      "cell_type": "markdown",
      "metadata": {
        "id": "DXVzqpN58Ntr"
      },
      "source": [
        "#### Questão 3\n",
        "\n",
        "Crie um código que solicite uma frase à pessoa usuária e imprima a mesma frase digitada mas com todas as letras maiúsculas."
      ]
    },
    {
      "cell_type": "code",
      "execution_count": null,
      "metadata": {
        "colab": {
          "base_uri": "https://localhost:8080/"
        },
        "id": "d0VzoYP68k-I",
        "outputId": "8a66d4cb-ceb0-4a79-e519-851e6a2a70ae"
      },
      "outputs": [
        {
          "name": "stdout",
          "output_type": "stream",
          "text": [
            "Digite uma frase: \n",
            "aimeudeus\n",
            "AIMEUDEUS\n"
          ]
        }
      ],
      "source": [
        "frase = input('Digite uma frase: \\n')\n",
        "\n",
        "\n",
        "print(frase.upper())"
      ]
    },
    {
      "cell_type": "markdown",
      "metadata": {
        "id": "I12VeNPK8Nqb"
      },
      "source": [
        "#### Questão 4\n",
        "\n",
        "Crie um código que solicite uma frase à pessoa usuária e imprima a mesma frase digitada mas com todas as letras minúsculas."
      ]
    },
    {
      "cell_type": "code",
      "execution_count": null,
      "metadata": {
        "colab": {
          "base_uri": "https://localhost:8080/"
        },
        "id": "KD8rNy2K8kox",
        "outputId": "08fb6d51-9ef6-492a-a164-26d546ee9fc7"
      },
      "outputs": [
        {
          "name": "stdout",
          "output_type": "stream",
          "text": [
            "Digite uma frase: \n",
            "AIMEUDEUS\n",
            "aimeudeus\n"
          ]
        }
      ],
      "source": [
        "frase = input('Digite uma frase: \\n')\n",
        "\n",
        "print(frase.lower())"
      ]
    },
    {
      "cell_type": "markdown",
      "metadata": {
        "id": "cRqngSE48Nog"
      },
      "source": [
        "#### Questão 5\n",
        "\n",
        "Crie uma variável chamada “`frase`” e atribua a ela uma string de sua escolha. Em seguida, imprima a frase sem espaços em branco no início e no fim."
      ]
    },
    {
      "cell_type": "code",
      "execution_count": null,
      "metadata": {
        "colab": {
          "base_uri": "https://localhost:8080/"
        },
        "id": "aSCpdF-o8kBs",
        "outputId": "935fd20c-4a4a-4311-b779-810405120099"
      },
      "outputs": [
        {
          "name": "stdout",
          "output_type": "stream",
          "text": [
            "String com espaço na frente e atrás\n"
          ]
        }
      ],
      "source": [
        "frase = ' String com espaço na frente e atrás '\n",
        "\n",
        "print(frase.strip())"
      ]
    },
    {
      "cell_type": "markdown",
      "metadata": {
        "id": "murIazpQ8Nkv"
      },
      "source": [
        "#### Questão 6\n",
        "\n",
        "Crie um código que solicite uma frase à pessoa usuária e imprima a mesma frase sem espaços em branco no início e no fim."
      ]
    },
    {
      "cell_type": "code",
      "execution_count": null,
      "metadata": {
        "colab": {
          "base_uri": "https://localhost:8080/"
        },
        "id": "tHunjwuG8jNq",
        "outputId": "6698bd8c-4806-40c2-f6f9-bb6414cf5ca8"
      },
      "outputs": [
        {
          "name": "stdout",
          "output_type": "stream",
          "text": [
            "Digite uma frase: \n",
            "     aiaiaia       \n",
            "aiaiaia\n"
          ]
        }
      ],
      "source": [
        "frase = input('Digite uma frase: \\n')\n",
        "\n",
        "print(frase.strip())"
      ]
    },
    {
      "cell_type": "markdown",
      "metadata": {
        "id": "eRxc2OeX8Nh2"
      },
      "source": [
        "#### Questão 7\n",
        "\n",
        "\n",
        "Crie um código que solicite uma frase à pessoa usuária e imprima a mesma frase sem espaços em branco no início e no fim e em letras minúsculas."
      ]
    },
    {
      "cell_type": "code",
      "execution_count": null,
      "metadata": {
        "colab": {
          "base_uri": "https://localhost:8080/"
        },
        "id": "DYm0_UwS8ih6",
        "outputId": "080a30b6-fde3-4cd5-d482-879f340f2721"
      },
      "outputs": [
        {
          "name": "stdout",
          "output_type": "stream",
          "text": [
            "Digite uma frase: \n",
            "      AIMEUDEUS  \n",
            "aimeudeus\n"
          ]
        }
      ],
      "source": [
        "frase = input('Digite uma frase: \\n')\n",
        "\n",
        "print(frase.strip().lower())"
      ]
    },
    {
      "cell_type": "markdown",
      "metadata": {
        "id": "UKATLavs8NfI"
      },
      "source": [
        "#### Questão 8\n",
        "\n",
        "Crie um código que solicite uma frase à pessoa usuária e imprima a mesma frase com todas as vogais “`e`” trocadas pela letra “`f`”."
      ]
    },
    {
      "cell_type": "code",
      "execution_count": null,
      "metadata": {
        "colab": {
          "base_uri": "https://localhost:8080/"
        },
        "id": "k64C5G5S8iLO",
        "outputId": "3ef2a497-1a78-48ac-ceb8-b78811254854"
      },
      "outputs": [
        {
          "name": "stdout",
          "output_type": "stream",
          "text": [
            "Digite uma frase: \n",
            "Olha só essa frase!\n",
            "Olha só fssa frasf!\n"
          ]
        }
      ],
      "source": [
        "frase = input('Digite uma frase: \\n')\n",
        "\n",
        "print(frase.replace('e','f'))"
      ]
    },
    {
      "cell_type": "markdown",
      "metadata": {
        "id": "n_1SPchw8NdG"
      },
      "source": [
        "#### Questão 9\n",
        "\n",
        "\n",
        "Crie um código que solicite uma frase à pessoa usuária e imprima a mesma frase com todas as vogais “`a`” trocadas pela caractere  “`@`”."
      ]
    },
    {
      "cell_type": "code",
      "execution_count": null,
      "metadata": {
        "colab": {
          "base_uri": "https://localhost:8080/"
        },
        "id": "msaDNm_p8h0D",
        "outputId": "efaecc68-1325-4b35-a6d1-13751e54ef5f"
      },
      "outputs": [
        {
          "name": "stdout",
          "output_type": "stream",
          "text": [
            "Digite uma frase: \n",
            "Olha só essa frase!\n",
            "Olh@ só ess@ fr@se!\n"
          ]
        }
      ],
      "source": [
        "frase = input(\"Digite uma frase: \\n\")\n",
        "\n",
        "frase = frase.replace(\"a\", chr(64))\n",
        "\n",
        "print(frase)\n"
      ]
    },
    {
      "cell_type": "markdown",
      "metadata": {
        "id": "H3sTTjqI8Naa"
      },
      "source": [
        "#### Questão 10\n",
        "\n",
        "\n",
        "Crie um código que solicite uma frase à pessoa usuária e imprima a mesma frase com todas as consoantes “`s`” trocadas pelo caractere  “`$`”."
      ]
    },
    {
      "cell_type": "code",
      "execution_count": null,
      "metadata": {
        "colab": {
          "base_uri": "https://localhost:8080/"
        },
        "id": "RPBIsWT68e-1",
        "outputId": "b458495a-07d5-441b-d715-5997a3c31e17"
      },
      "outputs": [
        {
          "name": "stdout",
          "output_type": "stream",
          "text": [
            "Digite uma frase: \n",
            "Olha só essa frase!\n",
            "Olha $ó e$$a fra$e!\n"
          ]
        }
      ],
      "source": [
        "frase = input(\"Digite uma frase: \\n\")\n",
        "\n",
        "frase = frase.replace(\"s\", chr(36))\n",
        "\n",
        "print(frase)"
      ]
    },
    {
      "cell_type": "markdown",
      "metadata": {
        "id": "XGePe4GD2I59"
      },
      "source": [
        "## Aula 3 - Estruturas condicionais"
      ]
    },
    {
      "cell_type": "markdown",
      "metadata": {
        "id": "Pr9HTW0UHCdD"
      },
      "source": [
        "### Aquecendo na programação"
      ]
    },
    {
      "cell_type": "markdown",
      "metadata": {
        "id": "xBZHqhVg80Fy"
      },
      "source": [
        "#### Questão 1\n",
        "Escreva um programa que peça à pessoa usuária para fornecer dois números e exibir o número maior."
      ]
    },
    {
      "cell_type": "code",
      "execution_count": null,
      "metadata": {
        "colab": {
          "base_uri": "https://localhost:8080/"
        },
        "id": "GJlGnzjc-xyF",
        "outputId": "bd391cd3-9eaf-4fce-ea3d-f6ecd7e5f260"
      },
      "outputs": [
        {
          "name": "stdout",
          "output_type": "stream",
          "text": [
            "Insira o primeiro valor: \n",
            "7\n",
            "Insira o segundo valor: \n",
            "49\n",
            "O segundo valor (49) é maior que o primeiro valor (7)!\n"
          ]
        }
      ],
      "source": [
        "v1 = int(input('Insira o primeiro valor: \\n'))\n",
        "v2 = int(input('Insira o segundo valor: \\n'))\n",
        "\n",
        "if v1 > v2:\n",
        "  print(f'O primeiro valor ({v1}) é maior que o segundo valor ({v2})!')\n",
        "else:\n",
        "  print(f'O segundo valor ({v2}) é maior que o primeiro valor ({v1})!')"
      ]
    },
    {
      "cell_type": "markdown",
      "metadata": {
        "id": "H4sgN7dyHNJF"
      },
      "source": [
        "#### Questão 2\n",
        "Escreva um programa que solicite o percentual de crescimento de produção de uma empresa e informe se houve um crescimento (porcentagem positiva) ou decrescimento (porcentagem negativa)."
      ]
    },
    {
      "cell_type": "code",
      "execution_count": null,
      "metadata": {
        "colab": {
          "base_uri": "https://localhost:8080/"
        },
        "id": "-2_Ry5XJ-yZW",
        "outputId": "93a5143a-9ea5-4fb5-8180-863d31557706"
      },
      "outputs": [
        {
          "name": "stdout",
          "output_type": "stream",
          "text": [
            "Insira o percentual de crescimento: \n",
            "0\n",
            "A empresa estagnou. :(\n"
          ]
        }
      ],
      "source": [
        "percentual = float(input('Insira o percentual de crescimento: \\n'))\n",
        "\n",
        "if percentual > 0:\n",
        "  print(f'A empresa teve um CRESCIMENTO de {percentual}{chr(37)}!')\n",
        "elif percentual < 0:\n",
        "  print(f'A empresa teve um DECRESCIMENTO de {percentual}{chr(37)}!')\n",
        "else:\n",
        "  print(f'A empresa estagnou. :(')"
      ]
    },
    {
      "cell_type": "markdown",
      "metadata": {
        "id": "a_mzNOBDHNny"
      },
      "source": [
        "#### Questão 3\n",
        "Escreva um programa que determine se uma letra fornecida pela pessoa usuária é uma vogal ou consoante."
      ]
    },
    {
      "cell_type": "code",
      "execution_count": null,
      "metadata": {
        "colab": {
          "base_uri": "https://localhost:8080/"
        },
        "id": "NbgndVyg-zFJ",
        "outputId": "28296ce7-5d6d-4098-96e1-aa11e3822f23"
      },
      "outputs": [
        {
          "name": "stdout",
          "output_type": "stream",
          "text": [
            "Insira uma letra: \n",
            "d\n",
            "A letra d é uma consoante!\n"
          ]
        }
      ],
      "source": [
        "vogais = 'a, e, i, o, u'\n",
        "\n",
        "letra = input('Insira uma letra: \\n').lower()\n",
        "\n",
        "if letra in vogais:\n",
        "  print(f'A letra {letra} é uma vogal!')\n",
        "else:\n",
        "  print(f'A letra {letra} é uma consoante!')"
      ]
    },
    {
      "cell_type": "markdown",
      "metadata": {
        "id": "mofMRjSZHP99"
      },
      "source": [
        "#### Questão 4\n",
        "Escreva um programa que leia valores médios de preços de um modelo de carro por 3 anos consecutivos e exiba o valor mais alto e mais baixo entre esses três anos."
      ]
    },
    {
      "cell_type": "code",
      "execution_count": null,
      "metadata": {
        "colab": {
          "base_uri": "https://localhost:8080/"
        },
        "id": "TX--d3k9-02c",
        "outputId": "5d3039d9-61a6-414a-921a-0a3047686548"
      },
      "outputs": [
        {
          "name": "stdout",
          "output_type": "stream",
          "text": [
            "Valor médio ano 1: \n",
            "5\n",
            "Valor médio do ano 2: \n",
            "6\n",
            "Valor médio do ano 3: \n",
            "7\n",
            "O valor mais alto foi: 7.0! \n",
            "O valor mais baixo foi: 5.0! \n",
            "Consequentemente, o vamor mediano foi: 6.0!\n"
          ]
        }
      ],
      "source": [
        "v1 = float(input('Valor médio ano 1: \\n'))\n",
        "v2 = float(input('Valor médio do ano 2: \\n'))\n",
        "v3 = float(input('Valor médio do ano 3: \\n'))\n",
        "\n",
        "if v1 > v2 and v1 > v3:\n",
        "  v_maior = v1\n",
        "elif v1 < v2 and v1 < v3:\n",
        "  v_menor = v1\n",
        "else:\n",
        "  v_meio = v1\n",
        "\n",
        "if v2 > v1 and v2 > v3:\n",
        "  v_maior = v2\n",
        "elif v2 < v1 and v2 < v3:\n",
        "  v_menor = v2\n",
        "else:\n",
        "  v_meio = v2\n",
        "\n",
        "if v3 > v1 and v3 > v2:\n",
        "  v_maior = v3\n",
        "elif v3 < v1 and v3 < v2:\n",
        "  v_menor = v3\n",
        "else:\n",
        "  v_meio = v3\n",
        "\n",
        "print(f'O valor mais alto foi: {v_maior}! \\nO valor mais baixo foi: {v_menor}! \\nConsequentemente, o vamor mediano foi: {v_meio}!')\n"
      ]
    },
    {
      "cell_type": "markdown",
      "metadata": {
        "id": "jY5tIwd-HQzc"
      },
      "source": [
        "#### Questão 5\n",
        "Escreva um programa que pergunte sobre o preço de três produtos e indique qual é o produto mais barato para comprar."
      ]
    },
    {
      "cell_type": "code",
      "execution_count": null,
      "metadata": {
        "colab": {
          "base_uri": "https://localhost:8080/"
        },
        "id": "sYqNh9df-0gk",
        "outputId": "f85dbf00-1687-42fc-e08b-448f0da1b796"
      },
      "outputs": [
        {
          "name": "stdout",
          "output_type": "stream",
          "text": [
            "Insira o valor do produto \"Banana\": \n",
            "896\n",
            "Insira o valor do produto \"Maçã\": \n",
            "3\n",
            "Insira o valor do produto \"Chevrolet 2002\": \n",
            "244\n",
            "Maçã 3.0\n"
          ]
        }
      ],
      "source": [
        "p1 = \"Banana\"\n",
        "p2 = \"Maçã\"\n",
        "p3 = \"Chevrolet 2002\"\n",
        "\n",
        "v1 = float(input(f'Insira o valor do produto \"{p1}\": \\n'))\n",
        "v2 = float(input(f'Insira o valor do produto \"{p2}\": \\n'))\n",
        "v3 = float(input(f'Insira o valor do produto \"{p3}\": \\n'))\n",
        "\n",
        "if v1 < v2 and v1 < v3:\n",
        "  print(p1, v1)\n",
        "elif v2 < v1 and v2 < v3:\n",
        "  print(p2, v2)\n",
        "else:\n",
        "  print(p3, v3)"
      ]
    },
    {
      "cell_type": "markdown",
      "metadata": {
        "id": "1r6aVxtTHR4E"
      },
      "source": [
        "#### Questão 6\n",
        "Escreva um programa que leia três números e os exiba em ordem decrescente."
      ]
    },
    {
      "cell_type": "code",
      "execution_count": null,
      "metadata": {
        "colab": {
          "base_uri": "https://localhost:8080/"
        },
        "id": "ydOCYUMO-0Hk",
        "outputId": "81d3e6c0-1bfe-42c1-b3ec-55ecbe3cc3c3"
      },
      "outputs": [
        {
          "name": "stdout",
          "output_type": "stream",
          "text": [
            "Insira o primeiro número: \n",
            "4\n",
            "Insira o segundo número: \n",
            "239\n",
            "Insira o terceiro número: \n",
            "210581258\n",
            "210581258 239 4\n"
          ]
        }
      ],
      "source": [
        "n1 = int(input('Insira o primeiro número: \\n'))\n",
        "n2 = int(input('Insira o segundo número: \\n'))\n",
        "n3 = int(input('Insira o terceiro número: \\n'))\n",
        "\n",
        "if n1 > n2 and n1 > n3:\n",
        "  maior = n1\n",
        "elif n1 < n2 and n1 < n3:\n",
        "  menor = n1\n",
        "else:\n",
        "  meio = n1\n",
        "\n",
        "if n2 > n1 and n2 > n3:\n",
        "  maior = n2\n",
        "elif n2 < n1 and n2 < n3:\n",
        "  menor = n2\n",
        "else:\n",
        "    meio = n2\n",
        "\n",
        "if n3 > n1 and n3 > n2:\n",
        "  maior = n3\n",
        "elif n3 < n1 and n3 < n2:\n",
        "  menor = n3\n",
        "else:\n",
        "  meio = n3\n",
        "\n",
        "print(maior, meio, menor)"
      ]
    },
    {
      "cell_type": "markdown",
      "metadata": {
        "id": "inW3F-hAHS_X"
      },
      "source": [
        "#### Questão 7\n",
        "Escreva um programa que pergunte em qual turno a pessoa usuária estuda (\"manhã\", \"tarde\" ou \"noite\") e exiba a mensagem \"Bom Dia!\", \"Boa Tarde!\", \"Boa Noite!\", ou \"Valor Inválido!\", conforme o caso."
      ]
    },
    {
      "cell_type": "code",
      "execution_count": null,
      "metadata": {
        "colab": {
          "base_uri": "https://localhost:8080/"
        },
        "id": "-_q-Pcr_-zth",
        "outputId": "451e2639-1404-4444-e98e-434e04bb074d"
      },
      "outputs": [
        {
          "name": "stdout",
          "output_type": "stream",
          "text": [
            "Insira o período em que você estuda (manhã, tarde ou noite): \n",
            "MANHÃ\n",
            "Bom dia!\n"
          ]
        }
      ],
      "source": [
        "turno = input('Insira o período em que você estuda (manhã, tarde ou noite): \\n').lower()\n",
        "turnos = ['manhã', 'tarde', 'noite']\n",
        "\n",
        "while turno not in turnos:\n",
        "  print('Valor inválido!')\n",
        "  turno = input('Insira o período em que você estuda (manhã, tarde ou noite): \\n').lower()\n",
        "\n",
        "if turno == \"manhã\":\n",
        "  print('Bom dia!')\n",
        "elif turno == \"tarde\":\n",
        "  print('Boa tarde!')\n",
        "else:\n",
        "  print('Boa noite!')\n"
      ]
    },
    {
      "cell_type": "markdown",
      "metadata": {
        "id": "NCCPF3QqHTw-"
      },
      "source": [
        "#### Questão 8\n",
        "Escreva um programa que peça um número inteiro à pessoa usuária e determine se ele é par ou ímpar. Dica: Você pode utilizar o operador módulo `%`."
      ]
    },
    {
      "cell_type": "code",
      "execution_count": null,
      "metadata": {
        "colab": {
          "base_uri": "https://localhost:8080/"
        },
        "id": "OmZJt1nQ-3e6",
        "outputId": "5c55a7c3-0d2c-4c42-e92b-7033b9c93a30"
      },
      "outputs": [
        {
          "name": "stdout",
          "output_type": "stream",
          "text": [
            "Insira um número: \n",
            "6\n",
            "O número 6 é par!\n"
          ]
        }
      ],
      "source": [
        "n = int(input('Insira um número: \\n'))\n",
        "if n % 2 == 0:\n",
        "  print(f'O número {n} é par!')\n",
        "else:\n",
        "  print(f'O número {n} é impar!')"
      ]
    },
    {
      "cell_type": "markdown",
      "metadata": {
        "id": "h93Ck1tQHUwE"
      },
      "source": [
        "#### Questão 9\n",
        "Escreva um programa que peça um número à pessoa usuária e informe se ele é inteiro ou decimal."
      ]
    },
    {
      "cell_type": "code",
      "execution_count": null,
      "metadata": {
        "colab": {
          "base_uri": "https://localhost:8080/"
        },
        "id": "H2VBEfM5Qp7V",
        "outputId": "a39a830c-3fb9-44d5-a527-f4e277f47bf1"
      },
      "outputs": [
        {
          "name": "stdout",
          "output_type": "stream",
          "text": [
            "Insira um número: \n",
            "2.4\n",
            "O número 2.4 é decimal!\n"
          ]
        }
      ],
      "source": [
        "n = input('Insira um número: \\n')\n",
        "\n",
        "if n.isdigit():\n",
        "  print(f'O número {n} é inteiro!')\n",
        "else:\n",
        "  print(f'O número {n} é decimal!')\n"
      ]
    },
    {
      "cell_type": "markdown",
      "metadata": {
        "id": "bKdXSK1SH_pF"
      },
      "source": [
        "### Momento dos projetos"
      ]
    },
    {
      "cell_type": "markdown",
      "metadata": {
        "id": "WBlEyyzsHV86"
      },
      "source": [
        "#### Questão 10\n",
        "Um programa deve ser escrito para ler dois números e, em seguida, perguntar à pessoa usuária qual operação ele deseja realizar. O resultado da operação deve incluir informações sobre o número - se é par ou ímpar, positivo ou negativo e inteiro ou decimal."
      ]
    },
    {
      "cell_type": "code",
      "execution_count": null,
      "metadata": {
        "colab": {
          "base_uri": "https://localhost:8080/"
        },
        "id": "3jmahZ0f-2gq",
        "outputId": "9477e829-9321-4084-d1a2-eb60f99de5c1"
      },
      "outputs": [
        {
          "name": "stdout",
          "output_type": "stream",
          "text": [
            "Insira um número: 83\n",
            "Insira outro número: \n",
            "25\n",
            "Insira o operador (+, -, /, *): /\n",
            "O resultado de 83 / 25 é: 3.32\n",
            "3.32 é um número ímpar, positivo e decimal\n"
          ]
        }
      ],
      "source": [
        "n1 = int(input('Insira um número: '))\n",
        "n2 = int(input('Insira outro número: \\n'))\n",
        "operador = input('Insira o operador (+, -, /, *): ')\n",
        "\n",
        "if operador == '+':\n",
        "    total = n1 + n2\n",
        "elif operador == '-':\n",
        "    total = n1 - n2\n",
        "elif operador == '*':\n",
        "    total = n1 * n2\n",
        "elif operador == '/':\n",
        "    if n2 != 0:\n",
        "        total = n1 / n2\n",
        "    else:\n",
        "        total = 'Erro. Divisão por zero!'\n",
        "else:\n",
        "    total = 'Operador inválido.'\n",
        "\n",
        "if total % 2 != 0:\n",
        "  paridade = \"ímpar\"\n",
        "else:\n",
        "  paridade = \"par\"\n",
        "\n",
        "if total > 0:\n",
        "  positividade = \"positivo\"\n",
        "elif total < 0:\n",
        "  positividade = \"negativo\"\n",
        "else:\n",
        "  positividade = \"neutro\"\n",
        "\n",
        "if type(total) == float:\n",
        "  interidade = 'decimal'\n",
        "else:\n",
        "  interidade = 'inteiro'\n",
        "\n",
        "print(f'O resultado de {n1} {operador} {n2} é: {total}')\n",
        "print(f'{total} é um número {paridade}, {positividade} e {interidade}')\n"
      ]
    },
    {
      "cell_type": "markdown",
      "metadata": {
        "id": "VdnlULxHHW19"
      },
      "source": [
        "#### Questão 11\n",
        "Escreva um programa que peça à pessoa usuária três números que representam os lados de um triângulo. O programa deve informar se os valores podem ser utilizados para formar um triângulo e, caso afirmativo, se ele é equilátero, isósceles ou escaleno. Tenha em mente algumas dicas:\n",
        "- Três lados formam um triângulo quando a soma de quaisquer dois lados for maior que o terceiro;\n",
        "- Triângulo Equilátero: três lados iguais;\n",
        "- Triângulo Isósceles: quaisquer dois lados iguais;\n",
        "- Triângulo Escaleno: três lados diferentes;\n"
      ]
    },
    {
      "cell_type": "code",
      "execution_count": null,
      "metadata": {
        "colab": {
          "base_uri": "https://localhost:8080/"
        },
        "id": "0z73sqUO-2Pw",
        "outputId": "68ca3ff6-3cfd-4262-b5d6-7337059d9fa3"
      },
      "outputs": [
        {
          "name": "stdout",
          "output_type": "stream",
          "text": [
            "Primeiro lado: 9\n",
            "Segundo lado: 8\n",
            "Terceiro lado: 2\n",
            "Lado 1 \t 9 \n",
            "Lado 2 \t 8 \n",
            "Lado 3 \t 2\n",
            "Os tres lados formam um triângulo escaleno!\n"
          ]
        }
      ],
      "source": [
        "l1 = int(input('Primeiro lado: '))\n",
        "l2 = int(input('Segundo lado: '))\n",
        "l3 = int(input('Terceiro lado: '))\n",
        "\n",
        "if l1 + l2 > l3 or l1 + l3 > l2 or l2 + l3 > l1:\n",
        "  triangulo = 'triângulo'\n",
        "else:\n",
        "  triangulo = \"não triângulo\"\n",
        "\n",
        "if triangulo == 'triângulo':\n",
        "  if l1 == l2 and l2 == l3:\n",
        "    triangulo_tipo = 'equilátero'\n",
        "  elif l1 == l2 or l2 == l3 or l1 == l3:\n",
        "   triangulo_tipo = 'isóceles'\n",
        "  else:\n",
        "    triangulo_tipo = 'escaleno'\n",
        "else:\n",
        "  triangulo_tipo = 'de nenhum tipo'\n",
        "\n",
        "print(f'Lado 1 \\t {l1} \\nLado 2 \\t {l2} \\nLado 3 \\t {l3}')\n",
        "print(f'Os tres lados formam um {triangulo} {triangulo_tipo}!')"
      ]
    },
    {
      "cell_type": "markdown",
      "metadata": {
        "id": "_PpEpOugHXwZ"
      },
      "source": [
        "#### Questão 12\n",
        "Um estabelecimento está vendendo combustíveis com descontos variados. Para o etanol, se a quantidade comprada for até 15 litros, o desconto será de 2% por litro. Caso contrário, será de 4% por litro. Para o diesel, se a quantidade comprada for até 15 litros, o desconto será de 3% por litro. Caso contrário, será de 5% por litro. O preço do litro de diesel é R\\$ 2,00 e o preço do litro de etanol é R\\$ 1,70. Escreva um programa que leia a quantidade de litros vendidos e o tipo de combustível (E para etanol e D para diesel) e calcule o valor a ser pago pelo cliente. Tenha em mente algumas dicas:\n",
        "\n",
        "- O do valor do desconto será a multiplicação entre preço do litro, quantidade de litros e o valor do desconto.\n",
        "- O valor a ser pago por um cliente será o resultado da multiplicação do preço do litro pela quantidade de litros menos o valor de desconto resultante do cálculo.\n"
      ]
    },
    {
      "cell_type": "code",
      "execution_count": null,
      "metadata": {
        "colab": {
          "background_save": true,
          "base_uri": "https://localhost:8080/"
        },
        "id": "9izoF-0O-1yD",
        "outputId": "5cc6af4d-7612-4cbf-def5-645d02d3bebc"
      },
      "outputs": [
        {
          "name": "stdout",
          "output_type": "stream",
          "text": [
            "Combustível inválido!\n"
          ]
        }
      ],
      "source": [
        "d_preco = 2.00\n",
        "e_preco = 1.70\n",
        "\n",
        "combustivel = input('Qual combustível gostaria de comprar? Insira \"D\" para Diesel e \"E\" para Etanol: \\n').upper()\n",
        "if combustivel != \"E\" and combustivel != \"D\":\n",
        "  print('Combustível inválido!')\n",
        "  exit()\n",
        "litros = int(input('Quantos litros deseja comprar? \\nReforçando que acima de 15 litros você ganha mais desconto!\\n'))\n",
        "\n",
        "if combustivel == \"E\":\n",
        "  if litros > 15:\n",
        "    p_desconto = 0.04\n",
        "    desconto = round(((e_preco * litros) * p_desconto), 2)\n",
        "    total = (e_preco * litros) - desconto\n",
        "  else:\n",
        "    p_desconto = 0.02\n",
        "    desconto = round(((e_preco * litros) * p_desconto), 2)\n",
        "    total = (e_preco * litros) - desconto\n",
        "elif combustivel == \"D\":\n",
        "  if litros > 15:\n",
        "    p_desconto = 0.05\n",
        "    desconto = round(((d_preco * litros) * p_desconto), 2)\n",
        "    total = (d_preco * litros) - desconto\n",
        "  else:\n",
        "    p_desconto = 0.03\n",
        "    desconto = round(((d_preco * litros) * p_desconto), 2)\n",
        "    total = (d_preco * litros) - desconto\n",
        "else:\n",
        "  print('Combustível inválido!')\n",
        "print(f'Seu abastecimento custou {total}R{chr(36)}. \\nVocê teve um desconto de {desconto}R{chr(36)}!')"
      ]
    },
    {
      "cell_type": "markdown",
      "metadata": {
        "id": "s_XS_D1WHY2R"
      },
      "source": [
        "#### Questão 13\n",
        "Em uma empresa de venda de imóveis você precisa criar um código que analise os dados de vendas anuais para ajudar a diretoria na tomada de decisão. O código precisa coletar os dados de quantidade de venda durante os anos de 2022 e 2023 e fazer um cálculo de variação percentual. A partir do valor da variação, deve ser enviada às seguintes sugestões:\n",
        "- Para variação acima de 20%: bonificação para o time de vendas.\n",
        "- Para variação entre 2% e 20%: pequena bonificação para time de vendas.\n",
        "- Para variação entre 2% e -10%: planejamento de políticas de incentivo às vendas.\n",
        "- Para bonificações abaixo de -10%: corte de gastos.\n"
      ]
    },
    {
      "cell_type": "code",
      "execution_count": null,
      "metadata": {
        "id": "avQrYlUg-w8f"
      },
      "outputs": [],
      "source": []
    },
    {
      "cell_type": "markdown",
      "metadata": {
        "id": "AuaWh4-d2Itt"
      },
      "source": [
        "## Aula 4 - Estruturas de repetição"
      ]
    },
    {
      "cell_type": "markdown",
      "metadata": {
        "id": "6MSqU0sIJRdD"
      },
      "source": [
        "### Aquecendo na programação"
      ]
    },
    {
      "cell_type": "markdown",
      "metadata": {
        "id": "9eGGyCnAJRdQ"
      },
      "source": [
        "#### Questão 1\n",
        "Escreva um programa que peça dois números inteiros e imprima todos os números inteiros entre eles."
      ]
    },
    {
      "cell_type": "code",
      "execution_count": null,
      "metadata": {
        "id": "ID1oc1hxJRdQ"
      },
      "outputs": [],
      "source": []
    },
    {
      "cell_type": "markdown",
      "metadata": {
        "id": "mGonEHYCJRdR"
      },
      "source": [
        "#### Questão 2\n",
        "Escreva um programa para calcular quantos dias levará para a colônia de uma bactéria A ultrapassar ou igualar a colônia de uma bactéria B, com base nas taxas de crescimento de 3% e 1,5% respectivamente. Considere que a colônia A inicia com 4 elementos e a colônia B com 10 elementos."
      ]
    },
    {
      "cell_type": "code",
      "execution_count": null,
      "metadata": {
        "id": "wM6FJuoqJRdR"
      },
      "outputs": [],
      "source": []
    },
    {
      "cell_type": "markdown",
      "metadata": {
        "id": "UiOZRlqoJRdR"
      },
      "source": [
        "#### Questão 3\n",
        "Para tratar uma quantidade de 15 dados de avaliações de pessoas usuárias de um serviço da empresa, precisamos verificar se as notas são válidas. Então, escreva um programa que vai receber a nota de 0 a 5 de todos os dados e verificar se é um valor válido. Caso seja inserido uma nota acima de 5 ou abaixo de 0, repita até que a pessoa usuária insira um valor válido."
      ]
    },
    {
      "cell_type": "code",
      "execution_count": null,
      "metadata": {
        "id": "3TUAhCxcJRdR"
      },
      "outputs": [],
      "source": []
    },
    {
      "cell_type": "markdown",
      "metadata": {
        "id": "ABv3KObGJRdR"
      },
      "source": [
        "#### Questão 4\n",
        "Desenvolva um programa que leia um conjunto indeterminado de temperaturas em Celsius e faça uma análise. Portanto, escreva um programa que leia temperaturas e informe a média delas. A leitura deve ser encerrada ao ser enviado o valor -273°C."
      ]
    },
    {
      "cell_type": "code",
      "execution_count": null,
      "metadata": {
        "id": "85tBBj5KJRdS"
      },
      "outputs": [],
      "source": []
    },
    {
      "cell_type": "markdown",
      "metadata": {
        "id": "IjkbAfGcJRdS"
      },
      "source": [
        "#### Questão 5\n",
        "Escreva um programa que calcule o fatorial de um número inteiro fornecido pela pessoa usuária. O fatorial de um número inteiro é a multiplicação desse número por todos os seus antecessores até o número 1. Por exemplo, o fatorial de 5 é 5 x 4 x 3 x 2 x 1 = 120."
      ]
    },
    {
      "cell_type": "code",
      "execution_count": null,
      "metadata": {
        "id": "7RTH8o0HJRdS"
      },
      "outputs": [],
      "source": []
    },
    {
      "cell_type": "markdown",
      "metadata": {
        "id": "oGNKuQjsJRdT"
      },
      "source": [
        "### Momento dos projetos"
      ]
    },
    {
      "cell_type": "markdown",
      "metadata": {
        "id": "ODxaTUYmJRdS"
      },
      "source": [
        "#### Questão 6\n",
        "Escreva um programa que gere a tabuada de um número inteiro de 1 a 10, de acordo com a escolha da pessoa usuária. Como exemplo, para o número 2, a tabuada deve ser mostrada no seguinte formato:\n",
        "```\n",
        "Tabuada do 2:\n",
        "2 x 1 = 2\n",
        "2 x 2 = 4\n",
        "[...]\n",
        "2 x 10 = 20\n",
        "```"
      ]
    },
    {
      "cell_type": "code",
      "execution_count": null,
      "metadata": {
        "id": "lkTlbxPIJRdS"
      },
      "outputs": [],
      "source": []
    },
    {
      "cell_type": "markdown",
      "metadata": {
        "id": "LeIbnt8VJRdS"
      },
      "source": [
        "#### Questão 7\n",
        "Os números primos possuem várias aplicações dentro da Ciência de Dados, por exemplo, na criptografia e segurança. Um número primo é aquele que é divisível apenas por um e por ele mesmo. Faça um programa que peça um número inteiro e determine se ele é ou não um número primo."
      ]
    },
    {
      "cell_type": "code",
      "execution_count": null,
      "metadata": {
        "id": "2rcNU7twJRdS"
      },
      "outputs": [],
      "source": []
    },
    {
      "cell_type": "markdown",
      "metadata": {
        "id": "QTwb6QaCJRdT"
      },
      "source": [
        "#### Questão 8\n",
        "Vamos entender a distribuição de idades de pensionistas de uma empresa de previdência. Escreva um programa que leia as idades de uma quantidade não informada de clientes e mostre a distribuição em intervalos de [0-25], [26-50], [51-75] e [76-100]. Encerre a entrada de dados com um número negativo."
      ]
    },
    {
      "cell_type": "code",
      "execution_count": null,
      "metadata": {
        "id": "4IAhaDmYJRdT"
      },
      "outputs": [],
      "source": []
    },
    {
      "cell_type": "markdown",
      "metadata": {
        "id": "soJCQVwRJRdT"
      },
      "source": [
        "#### Questão 9\n",
        "Em uma eleição para gerência em uma empresa com 20 funcionários, existem quatro candidatos. Escreva um programa que calcule o vencedor da eleição. A votação ocorreu da seguinte maneira:\n",
        "- Cada funcionário votou em um dos quatro candidatos (representados pelos números 1, 2, 3 e 4).\n",
        "- Também foram contabilizados os votos nulos (representado pelo número 5) e os votos em branco (representado pelo número 6).\n",
        "\n",
        "Ao final da votação, o programa deve exibir o total de votos para cada candidato, o número de votos nulos e o número de votos em branco. Além disso, deve calcular e exibir a porcentagem de votos nulos em relação ao total de votos e a porcentagem de votos em branco em relação ao total de votos."
      ]
    },
    {
      "cell_type": "code",
      "execution_count": null,
      "metadata": {
        "id": "041EFrgG-4gR"
      },
      "outputs": [],
      "source": []
    },
    {
      "cell_type": "markdown",
      "metadata": {
        "id": "eijHQiNU2IZ7"
      },
      "source": [
        "## Aula 5 - Estruturas de dados"
      ]
    },
    {
      "cell_type": "markdown",
      "metadata": {
        "id": "92F0bKtBMgd7"
      },
      "source": [
        "### Aquecendo na programação"
      ]
    },
    {
      "cell_type": "markdown",
      "metadata": {
        "id": "IypX2ANuMgeC"
      },
      "source": [
        "#### Questão 1\n",
        "Faça um programa que tenha a seguinte lista contendo os valores de gastos de uma empresa de papel `[2172.54, 3701.35, 3518.09, 3456.61, 3249.38, 2840.82, 3891.45, 3075.26, 2317.64, 3219.08]`. Com esses valores, faça um programa que calcule a média de gastos. Dica, use as funções built-in [`sum()`](https://docs.python.org/3/library/functions.html#sum) e [`len()`](https://docs.python.org/3/library/functions.html#len)."
      ]
    },
    {
      "cell_type": "code",
      "execution_count": null,
      "metadata": {
        "id": "ge3LuFhLMgeD"
      },
      "outputs": [],
      "source": []
    },
    {
      "cell_type": "markdown",
      "metadata": {
        "id": "xrOeLhQkMgeD"
      },
      "source": [
        "#### Questão 2\n",
        " Com os mesmos dados da questão anterior, defina quantas compras foram acima de 3000 reais e calcule a porcentagem quanto ao total de compras."
      ]
    },
    {
      "cell_type": "code",
      "execution_count": null,
      "metadata": {
        "id": "Ygu5TMZyMgeD"
      },
      "outputs": [],
      "source": []
    },
    {
      "cell_type": "markdown",
      "metadata": {
        "id": "JgCOrE_BMgeD"
      },
      "source": [
        "#### Questão 3\n",
        "Faça um código que colete em uma lista 5 números inteiros quaisquer e imprima a lista. Exemplo: `[1,4,7,2,4]`."
      ]
    },
    {
      "cell_type": "code",
      "execution_count": null,
      "metadata": {
        "id": "vtM9O1hLMgeD"
      },
      "outputs": [],
      "source": []
    },
    {
      "cell_type": "markdown",
      "metadata": {
        "id": "p3bTp88HMgeD"
      },
      "source": [
        "#### Questão 4\n",
        "Colete novamente 5 inteiros e imprima a lista em ordem inversa à enviada."
      ]
    },
    {
      "cell_type": "code",
      "execution_count": null,
      "metadata": {
        "id": "-CGwMIyHMgeD"
      },
      "outputs": [],
      "source": []
    },
    {
      "cell_type": "markdown",
      "metadata": {
        "id": "eIXd_z1lMgeD"
      },
      "source": [
        "#### Questão 5\n",
        "Faça um programa que, ao inserir um número qualquer, criará uma lista contendo todos os números primos entre 1 e o número digitado."
      ]
    },
    {
      "cell_type": "code",
      "execution_count": null,
      "metadata": {
        "id": "rj_6GHstMgeE"
      },
      "outputs": [],
      "source": []
    },
    {
      "cell_type": "markdown",
      "metadata": {
        "id": "zrbz3ENlMgeE"
      },
      "source": [
        "#### Questão 6\n",
        "Escreva um programa que peça uma data informando o dia, mês e ano e determine se ela é uma data válida para uma análise."
      ]
    },
    {
      "cell_type": "code",
      "execution_count": null,
      "metadata": {
        "id": "0eYA8UjTMgeE"
      },
      "outputs": [],
      "source": []
    },
    {
      "cell_type": "markdown",
      "metadata": {
        "id": "ut_4VHdGMgeE"
      },
      "source": [
        "### Momento dos projetos"
      ]
    },
    {
      "cell_type": "markdown",
      "metadata": {
        "id": "G86Z0vD_MgeE"
      },
      "source": [
        "#### Questão 7\n",
        "Para um estudo envolvendo o nível de multiplicação de bactérias em uma colônia, foi coletado o número de bactérias multiplicadas por dia, com base em um processo de duplicação diária e pode ser observado a seguir: `[1.2, 2.1, 3.3, 5.0, 7.8, 11.3, 16.6, 25.1, 37.8, 56.9]`. Tendo esses valores, faça um código que gere uma lista contendo o percentual de crescimento de bactérias por dia, comparando o número de bactérias em cada dia com o número de bactérias do dia anterior. Dica: para calcular o percentual de crescimento usamos a seguinte equação: `100 * (amostra_atual - amostra_passada) / (amostra_passada)`."
      ]
    },
    {
      "cell_type": "code",
      "execution_count": null,
      "metadata": {
        "id": "PXNO_CFkMgeE"
      },
      "outputs": [],
      "source": []
    },
    {
      "cell_type": "markdown",
      "metadata": {
        "id": "p4nxogpnMgeE"
      },
      "source": [
        "#### Questão 8\n",
        "Para uma seleção de produtos alimentícios, precisamos separar o conjunto de IDs dados por números inteiros, sabendo que os produtos com ID par são doces e os com ID ímpar são amargos. Monte um código que colete 10 IDs. Depois, calcule e mostre a quantidade de produtos doces e amargos."
      ]
    },
    {
      "cell_type": "code",
      "execution_count": null,
      "metadata": {
        "id": "WqjO2SZkMgeE"
      },
      "outputs": [],
      "source": []
    },
    {
      "cell_type": "markdown",
      "metadata": {
        "id": "t5OrLxV6MgeE"
      },
      "source": [
        "#### Questão 9\n",
        "Desenvolva um programa que informa a nota de um aluno de acordo com suas respostas. Ele deve pedir a resposta de um aluno para cada questão e é preciso verificar se a resposta foi igual ao gabarito. Cada questão vale um ponto e existem alternativas:  A, B, C ou D.\n",
        "```\n",
        "Gabarito da Prova:\n",
        "01 - D\n",
        "02 - A\n",
        "03 - C\n",
        "04 - B\n",
        "05 - A\n",
        "06 - D\n",
        "07 - C\n",
        "08 - C\n",
        "09 - A\n",
        "10 - B\n",
        "```"
      ]
    },
    {
      "cell_type": "code",
      "execution_count": null,
      "metadata": {
        "id": "ytIQDJrQMgeE"
      },
      "outputs": [],
      "source": []
    },
    {
      "cell_type": "markdown",
      "metadata": {
        "id": "aSBMzh-AMgeF"
      },
      "source": [
        "#### Questão 10\n",
        "Um instituto de meteorologia deseja fazer um estudo de temperatura média de cada mês do ano. Para isso, você precisa fazer um código que colete e armazene essas temperaturas médias em uma lista. Depois, calcule a média anual das temperaturas e mostre todas as temperaturas acima da média anual, e em que mês elas ocorreram, mostrando os meses por extenso: Janeiro, Fevereiro, etc."
      ]
    },
    {
      "cell_type": "code",
      "execution_count": null,
      "metadata": {
        "id": "ftj04s2uMgeF"
      },
      "outputs": [],
      "source": []
    },
    {
      "cell_type": "markdown",
      "metadata": {
        "id": "0X8S6s4jMgeF"
      },
      "source": [
        "#### Questão 11\n",
        "Uma empresa de e-commerce está interessada em analisar as vendas dos seus produtos. Os dados das vendas foram armazenados em um dicionário:\n",
        "```\n",
        "{'Produto A': 300, 'Produto B': 80, 'Produto C': 60,\n",
        " 'Produto D': 200, 'Produto E': 250, 'Produto F': 30}\n",
        "```\n",
        "Escreva um código que calcule o total de vendas e o produto mais vendido."
      ]
    },
    {
      "cell_type": "code",
      "execution_count": null,
      "metadata": {
        "id": "Xa3DJLtFMgeF"
      },
      "outputs": [],
      "source": []
    },
    {
      "cell_type": "markdown",
      "metadata": {
        "id": "nrEwf_1ZMgeF"
      },
      "source": [
        "#### Questão 12\n",
        "Uma pesquisa de mercado foi feita para decidir qual design de uma marca infantil mais agrada crianças. A pesquisa foi feita e o votos computados podem ser observados abaixo:\n",
        "```\n",
        "'''\n",
        "Tabela de votos da marca\n",
        "Design 1 - 1334 votos\n",
        "Design 2 - 982 votos\n",
        "Design 3 - 1751 votos\n",
        "Design 4 - 210 votos\n",
        "Design 5 - 1811 votos\n",
        "'''\n",
        "```\n",
        "Adapte os dados fornecidos a você para uma estrutura de dicionário e a partir dele, informe o design vencedor e a porcentagem de votos recebidos.\n"
      ]
    },
    {
      "cell_type": "code",
      "execution_count": null,
      "metadata": {
        "id": "MRPcGR-_MgeF"
      },
      "outputs": [],
      "source": []
    },
    {
      "cell_type": "markdown",
      "metadata": {
        "id": "HRTFFzKIMgeF"
      },
      "source": [
        "#### Questão 13\n",
        "Os funcionários de um setor da empresa que você trabalha vão receber um abono correspondente a 10% do seu salário devido ao ótimo desempenho do time. O setor financeiro solicitou sua ajuda para a verificação das consequências financeiras que esse abono irá gerar nos recursos. Assim, foi encaminhada para você uma lista com os salários que receberão o abono: `[1172, 1644, 2617, 5130, 5532, 6341, 6650, 7238, 7685, 7782, 7903]`. O abono de cada funcionário não pode ser inferior a 200. Em código, transforme cada um dos salários em chaves de um dicionário e o abono de cada salário no elemento. Depois, informe o total de gastos com o abono, quantos funcionários receberam o abono mínimo e qual o maior valor de abono fornecido.\n"
      ]
    },
    {
      "cell_type": "code",
      "execution_count": null,
      "metadata": {
        "id": "QsDSCua42bLB"
      },
      "outputs": [],
      "source": []
    },
    {
      "cell_type": "markdown",
      "metadata": {
        "id": "6dEXZEwjMlWy"
      },
      "source": [
        "#### Questão 14\n",
        "Uma equipe de cientistas de dados está estudando a diversidade biológica em uma floresta. A equipe fez a coleta de informações sobre o número de espécies de plantas e animais em cada área da floresta e armazenaram essas informações em um dicionário. Nele, a chave descreve a área dos dados e os valores nas listas correspondem às espécies de plantas e animais nas áreas, respectivamente.\n",
        "```\n",
        "{'Área Norte': [2819, 7236],\n",
        " 'Área Leste': [1440, 9492],\n",
        " 'Área Sul': [5969, 7496],\n",
        " 'Área Oeste': [14446, 49688],\n",
        " 'Área Centro': [22558, 45148]}\n",
        "```\n",
        "Escreva um código para calcular a média de espécies por área e identificar a área com a maior diversidade biológica. Dica: use as funções built-in [`sum()`](https://docs.python.org/3/library/functions.html#sum) e [`len()`](https://docs.python.org/3/library/functions.html#len).\n"
      ]
    },
    {
      "cell_type": "code",
      "execution_count": null,
      "metadata": {
        "id": "eQnOUDfYMlWy"
      },
      "outputs": [],
      "source": []
    },
    {
      "cell_type": "markdown",
      "metadata": {
        "id": "r0RW2Sy_MlWy"
      },
      "source": [
        "#### Questão 15\n",
        "O setor de RH da sua empresa te pediu uma ajuda para analisar as idades dos funcionários de 4 setores da empresa. Para isso, ele te forneceu os seguintes dados:\n",
        "```\n",
        "{'Setor A': [22, 26, 30, 30, 35, 38, 40, 56, 57, 65],\n",
        " 'Setor B': [22, 24, 26, 33, 41, 49, 50, 54, 60, 64],\n",
        " 'Setor C': [23, 26, 26, 29, 34, 35, 36, 41, 52, 56],\n",
        " 'Setor D': [19, 20, 25, 27, 34, 39, 42, 44, 50, 65]}\n",
        "```\n",
        "Sabendo que cada setor tem 10 funcionários, construa um código que calcule a média de idade de cada setor, a idade média geral entre todos os setores e quantas pessoas estão acima da idade média geral.\n"
      ]
    },
    {
      "cell_type": "code",
      "execution_count": null,
      "metadata": {
        "id": "wCiwyKP3MmTz"
      },
      "outputs": [],
      "source": []
    }
  ],
  "metadata": {
    "colab": {
      "toc_visible": true,
      "provenance": [],
      "include_colab_link": true
    },
    "kernelspec": {
      "display_name": "Python 3",
      "name": "python3"
    },
    "language_info": {
      "name": "python"
    }
  },
  "nbformat": 4,
  "nbformat_minor": 0
}