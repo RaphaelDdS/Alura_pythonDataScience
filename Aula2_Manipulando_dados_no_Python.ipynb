{
  "nbformat": 4,
  "nbformat_minor": 0,
  "metadata": {
    "colab": {
      "provenance": [],
      "authorship_tag": "ABX9TyMSghxry149a+37opcnvT04",
      "include_colab_link": true
    },
    "kernelspec": {
      "name": "python3",
      "display_name": "Python 3"
    },
    "language_info": {
      "name": "python"
    }
  },
  "cells": [
    {
      "cell_type": "markdown",
      "metadata": {
        "id": "view-in-github",
        "colab_type": "text"
      },
      "source": [
        "<a href=\"https://colab.research.google.com/github/RaphaelDdS/Alura_pythonDataScience/blob/main/Aula2_Manipulando_dados_no_Python.ipynb\" target=\"_parent\"><img src=\"https://colab.research.google.com/assets/colab-badge.svg\" alt=\"Open In Colab\"/></a>"
      ]
    },
    {
      "cell_type": "markdown",
      "source": [
        "# ***Coleta e amostragem de dados***"
      ],
      "metadata": {
        "id": "imVODwGkRyC1"
      }
    },
    {
      "cell_type": "markdown",
      "source": [
        "### ***1. Crie um programa que solicite à pessoa usuária digitar seu nome, e imprima “Olá, [nome]!”.***"
      ],
      "metadata": {
        "id": "gi8t342GlS7l"
      }
    },
    {
      "cell_type": "code",
      "execution_count": null,
      "metadata": {
        "colab": {
          "base_uri": "https://localhost:8080/"
        },
        "id": "Q77FF1rrlNiI",
        "outputId": "aa9f31cc-07f0-4c88-b1fd-dfebdca85519"
      },
      "outputs": [
        {
          "output_type": "stream",
          "name": "stdout",
          "text": [
            "Digite seu nome: Raphael\n",
            "Olá, Raphael!\n"
          ]
        }
      ],
      "source": [
        "nome = input('Digite seu nome: ')\n",
        "print(f'Olá, {nome}!')"
      ]
    },
    {
      "cell_type": "markdown",
      "source": [
        "### ***2. Crie um programa que solicite à pessoa usuária digitar seu nome e idade, e imprima “Olá, [nome], você tem [idade] anos.”.***"
      ],
      "metadata": {
        "id": "d9gWg9rIlhVt"
      }
    },
    {
      "cell_type": "code",
      "source": [
        "nome = input('Digite seu nome: ')\n",
        "idade = input('Digite sua idade: ')\n",
        "print(f'Olá, {nome}! Você tem {idade} anos.')"
      ],
      "metadata": {
        "colab": {
          "base_uri": "https://localhost:8080/"
        },
        "id": "8cbwOX4vldXK",
        "outputId": "da0ae18c-cb5c-4583-8db7-ff2dcfcd25ae"
      },
      "execution_count": null,
      "outputs": [
        {
          "output_type": "stream",
          "name": "stdout",
          "text": [
            "Digite seu nome: Raphael\n",
            "Digite sua idade: 27\n",
            "Olá, Raphael! Você tem 27 anos.\n"
          ]
        }
      ]
    },
    {
      "cell_type": "markdown",
      "source": [
        "### ***3. Crie um programa que solicite à pessoa usuária digitar seu nome, idade e altura em metros, e imprima “Olá, [nome], você tem [idade] anos e mede [altura] metros!”.***"
      ],
      "metadata": {
        "id": "TgW5VQrxl7or"
      }
    },
    {
      "cell_type": "code",
      "source": [
        "nome = input('Insira seu nome: ')\n",
        "idade = input('Insira sua idade: ')\n",
        "altura = input('Insira sua altura em metros: ')\n",
        "\n",
        "print(f'Olá, {nome}, você tem {idade} anos e mede {altura} metros!')"
      ],
      "metadata": {
        "colab": {
          "base_uri": "https://localhost:8080/"
        },
        "id": "k3XuZ2Kul0Zk",
        "outputId": "dc084ea1-4caf-4ae8-9c4e-9485caa193bb"
      },
      "execution_count": null,
      "outputs": [
        {
          "output_type": "stream",
          "name": "stdout",
          "text": [
            "Insira seu nome: Raphael\n",
            "Insira sua idade: 27\n",
            "Insira sua altura em metros: 1.80\n",
            "Olá, Raphael, você tem 27 anos e mede 1.80 metros!\n"
          ]
        }
      ]
    },
    {
      "cell_type": "markdown",
      "source": [
        "# ***Calculadora com operadores***"
      ],
      "metadata": {
        "id": "eZH7Pu5ESqCt"
      }
    },
    {
      "cell_type": "markdown",
      "source": [
        "### ***1. Crie um programa que solicite dois valores numéricos à pessoa usuária e imprima a soma dos dois valores.***"
      ],
      "metadata": {
        "id": "Jb-9BMqSquHR"
      }
    },
    {
      "cell_type": "code",
      "source": [
        "x = int(input('Insira primeiro número: '))\n",
        "y = int(input('Insira segundo número: '))\n",
        "total = x + y\n",
        "\n",
        "print(f'A soma de {x} + {y} é: {total}!')"
      ],
      "metadata": {
        "colab": {
          "base_uri": "https://localhost:8080/"
        },
        "id": "aQQnCkpimasM",
        "outputId": "72fa6af9-96d6-4580-96fb-6a603d7e179d"
      },
      "execution_count": null,
      "outputs": [
        {
          "output_type": "stream",
          "name": "stdout",
          "text": [
            "Insira primeiro número: 7\n",
            "Insira segundo número: 28\n",
            "A soma de 7 + 28 é: 35!\n"
          ]
        }
      ]
    },
    {
      "cell_type": "markdown",
      "source": [
        "### ***2. Crie um programa que solicite três valores numéricos à pessoa usuária e imprima a soma dos três valores.***"
      ],
      "metadata": {
        "id": "_MklPDfHrniE"
      }
    },
    {
      "cell_type": "code",
      "source": [
        "x = int(input('Insira o primeiro valor: '))\n",
        "y = int(input('Insira o segundo valor: '))\n",
        "z = int(input('Insira o terceiro valor: '))\n",
        "\n",
        "soma = x + y + z\n",
        "\n",
        "print(f'Os valores inseridos foram: {x}, {y} e {z}. A soma é: {soma}')"
      ],
      "metadata": {
        "colab": {
          "base_uri": "https://localhost:8080/"
        },
        "id": "clS4RaW-rC6h",
        "outputId": "4ca7ec6b-0c37-403f-d35b-24d4fd869916"
      },
      "execution_count": null,
      "outputs": [
        {
          "output_type": "stream",
          "name": "stdout",
          "text": [
            "Insira o primeiro valor: 8\n",
            "Insira o segundo valor: 28\n",
            "Insira o terceiro valor: 17\n",
            "Os valores inseridos foram: 8, 28 e 17. A soma é: 53\n"
          ]
        }
      ]
    },
    {
      "cell_type": "markdown",
      "source": [
        "### ***3. Crie um programa que solicite dois valores numéricos à pessoa usuária e imprima a subtração do primeiro pelo o segundo valor.***"
      ],
      "metadata": {
        "id": "YaGAeLQFElV3"
      }
    },
    {
      "cell_type": "code",
      "source": [
        "x = int(input('Insira o primeiro valor: '))\n",
        "y = int(input('Insira o segundo valor: '))\n",
        "total = x - y\n",
        "\n",
        "print(f'Os valores inseridos foram: {x} e {y}. A subtração do primeiro pelo segundo valor é: {total}!')"
      ],
      "metadata": {
        "colab": {
          "base_uri": "https://localhost:8080/"
        },
        "id": "K7U1twMhrpph",
        "outputId": "a2c620ef-c221-456d-f8d0-3f44c0652721"
      },
      "execution_count": null,
      "outputs": [
        {
          "output_type": "stream",
          "name": "stdout",
          "text": [
            "Insira o primeiro valor: 25\n",
            "Insira o segundo valor: 54\n",
            "Os valores inseridos foram: 25 e 54. A subtração do primeiro pelo segundo valor é: -29!\n"
          ]
        }
      ]
    },
    {
      "cell_type": "markdown",
      "source": [
        "### ***4. Crie um programa que solicite dois valores numéricos à pessoa usuária e imprima a multiplicação dos dois valores.***"
      ],
      "metadata": {
        "id": "UX5afbi1Fg4Q"
      }
    },
    {
      "cell_type": "code",
      "source": [
        "x = int(input('Insira o primeiro valor: \\n'))\n",
        "y = int(input('Insira o segundo valor: \\n'))\n",
        "total = x * y\n",
        "\n",
        "print(f'Os valores inseridos foram: {x} e {y}! \\nA multiplicação dos dois valores é: {total}!')"
      ],
      "metadata": {
        "colab": {
          "base_uri": "https://localhost:8080/"
        },
        "id": "Xl0aUriGFYdd",
        "outputId": "8e6cd643-4b11-4ddc-a9e3-186b1a09dedb"
      },
      "execution_count": null,
      "outputs": [
        {
          "output_type": "stream",
          "name": "stdout",
          "text": [
            "Insira o primeiro valor: \n",
            "24\n",
            "Insira o segundo valor: \n",
            "38\n",
            "Os valores inseridos foram: 24 e 38! \n",
            "A multiplicação dos dois valores é: 912!\n"
          ]
        }
      ]
    },
    {
      "cell_type": "markdown",
      "source": [
        "### ***5. Crie um programa que solicite dois valores numéricos, um numerador e um denominador, e realize a divisão entre os dois valores. Deixe claro que o valor do denominador não pode ser 0.***"
      ],
      "metadata": {
        "id": "kwzxmPGyGYIW"
      }
    },
    {
      "cell_type": "code",
      "source": [
        "x = int(input('Insira o primeiro valor (NUMERADOR): \\n'))\n",
        "y = int(input('Insira o segundo valor (DENOMINADOR, DIFERENTE DE ZERO): \\n'))\n",
        "\n",
        "while y == 0:\n",
        "  y = int(input('Insira o segundo valor (DENOMINADOR, DIFERENTE DE ZERO): \\n'))\n",
        "  if y != 0:\n",
        "    break\n",
        "\n",
        "total = x / y\n",
        "\n",
        "print(f'Os números inseridos foram: {x} e {y}! \\nA divisão entre os dois valores é: {total}!')"
      ],
      "metadata": {
        "colab": {
          "base_uri": "https://localhost:8080/"
        },
        "id": "lELkpAIYF82y",
        "outputId": "7fe2147c-ea61-4acb-d4c8-234f1e76e7fd"
      },
      "execution_count": null,
      "outputs": [
        {
          "output_type": "stream",
          "name": "stdout",
          "text": [
            "Insira o primeiro valor (NUMERADOR): \n",
            "87\n",
            "Insira o segundo valor (DENOMINADOR, DIFERENTE DE ZERO): \n",
            "5\n",
            "Os números inseridos foram: 87 e 5! \n",
            "A divisão entre os dois valores é: 17.4!\n"
          ]
        }
      ]
    },
    {
      "cell_type": "markdown",
      "source": [
        "### ***6. Crie um programa que solicite dois valores numéricos, um operador e uma potência, e realize a exponenciação entre esses dois valores.***"
      ],
      "metadata": {
        "id": "KJVy7rn7Jr-r"
      }
    },
    {
      "cell_type": "code",
      "source": [
        "x = int(input('Insira o primeiro valor (OPERADOR): \\n'))\n",
        "y = int(input('Insira o segundo valor (POTÊNCIA): \\n'))\n",
        "total = x ** y\n",
        "\n",
        "print(f'Os valores inseridos foram: {x} e {y}! \\nA exponenciação entre os dois valores é: {total}')\n",
        "\n"
      ],
      "metadata": {
        "colab": {
          "base_uri": "https://localhost:8080/"
        },
        "id": "A2Ku08BgItIT",
        "outputId": "0a32af0e-68ff-43d8-a7ba-2420226b34c6"
      },
      "execution_count": null,
      "outputs": [
        {
          "output_type": "stream",
          "name": "stdout",
          "text": [
            "Insira o primeiro valor (OPERADOR): \n",
            "25\n",
            "Insira o segundo valor (POTÊNCIA): \n",
            "7\n",
            "Os valores inseridos foram: 25 e 7! \n",
            "A exponenciação entre os dois valores é: 6103515625\n"
          ]
        }
      ]
    },
    {
      "cell_type": "markdown",
      "source": [
        "### ***7. Crie um programa que solicite dois valores numéricos, um numerador e um denominador e realize a divisão inteira entre os dois valores. Deixe claro que o valor do denominador não pode ser 0***"
      ],
      "metadata": {
        "id": "98nJrcjOLZEI"
      }
    },
    {
      "cell_type": "code",
      "source": [
        "x = int(input('Insira o primeiro valor (NUMERADOR): \\n'))\n",
        "y = int(input('Insira o segundo valor (DENOMINADOR, DIFERENTE DE ZERO): \\n'))\n",
        "\n",
        "while y == 0:\n",
        "  y = int(input('Insira o segundo valor (DENOMINADOR, DIFERENTE DE ZERO): \\n'))\n",
        "  if y != 0:\n",
        "    break\n",
        "\n",
        "total = x // y\n",
        "\n",
        "print(f'Os valores inseridos foram: {x} e {y}! \\nA divisão INTEIRA entre os dois valores é: {total}!')"
      ],
      "metadata": {
        "colab": {
          "base_uri": "https://localhost:8080/"
        },
        "id": "vxVkguyVKWq6",
        "outputId": "1435c173-ff17-49b3-8d65-f0fa966e08e4"
      },
      "execution_count": null,
      "outputs": [
        {
          "output_type": "stream",
          "name": "stdout",
          "text": [
            "Insira o primeiro valor (NUMERADOR): \n",
            "29\n",
            "Insira o segundo valor (DENOMINADOR, DIFERENTE DE ZERO): \n",
            "4\n",
            "Os valores inseridos foram: 29 e 4! \n",
            "A divisão INTEIRA entre os dois valores é: 7!\n"
          ]
        }
      ]
    },
    {
      "cell_type": "markdown",
      "source": [
        "### ***8. Crie um programa que solicite dois valores numéricos, um numerador e um denominador, e retorne o resto da divisão entre os dois valores. Deixe claro que o valor do denominador não pode ser 0.***"
      ],
      "metadata": {
        "id": "KteI-h4rMk5m"
      }
    },
    {
      "cell_type": "code",
      "source": [
        "x = int(input('Insira o primeiro valor (NUMERADOR): \\n'))\n",
        "y = int(input('Insira o segundo valor (DENOMINADOR, DIFERENTE DE ZERO): \\n'))\n",
        "\n",
        "while y == 0:\n",
        "  y = int(input('Insira o segundo valor (DENOMINADOR, DIFERENTE DE ZERO: \\n) '))\n",
        "  if y != 0:\n",
        "    break\n",
        "\n",
        "total = x % y\n",
        "\n",
        "print(f'Os valores inseridos foram: {x} e {y}! \\nO RESTO da divisão entre os dois valores é: {total}!')"
      ],
      "metadata": {
        "colab": {
          "base_uri": "https://localhost:8080/"
        },
        "id": "hNwC_-MaMcbE",
        "outputId": "69210d63-5302-47a3-9bab-6c534f28bd00"
      },
      "execution_count": null,
      "outputs": [
        {
          "output_type": "stream",
          "name": "stdout",
          "text": [
            "Insira o primeiro valor (NUMERADOR): \n",
            "958195\n",
            "Insira o segundo valor (DENOMINADOR, DIFERENTE DE ZERO): \n",
            "572\n",
            "Os valores inseridos foram: 958195 e 572! \n",
            "O RESTO da divisão entre os dois valores é: 95!\n"
          ]
        }
      ]
    },
    {
      "cell_type": "markdown",
      "source": [
        "### ***9. Crie um código que solicita 3 notas de um estudante e imprima a média das notas.***"
      ],
      "metadata": {
        "id": "M30xzRRdOumC"
      }
    },
    {
      "cell_type": "code",
      "source": [
        "x = int(input('Insira a primeira nota: \\n'))\n",
        "y = int(input('Insira a segunda nota: '))\n",
        "z = int(input('Insira a terceira nota: '))\n",
        "\n",
        "media = (x + y + z) / 3\n",
        "\n",
        "print(f'As notas inseridas foram: {x}, {y} e {z}! \\nA média é: {media}!')"
      ],
      "metadata": {
        "colab": {
          "base_uri": "https://localhost:8080/"
        },
        "id": "kpHGgXW5Ofyw",
        "outputId": "11a3d658-5213-4513-ca15-fe35166ad38c"
      },
      "execution_count": null,
      "outputs": [
        {
          "output_type": "stream",
          "name": "stdout",
          "text": [
            "Insira a primeira nota: \n",
            "8\n",
            "Insira a segunda nota: 4\n",
            "Insira a terceira nota: 6\n",
            "As notas inseridas foram: 8, 4 e 6! \n",
            "A média é: 6.0!\n"
          ]
        }
      ]
    },
    {
      "cell_type": "markdown",
      "source": [
        "### ***10. Crie um código que calcule e imprima a média ponderada dos números 5, 12, 20 e 15 com pesos respectivamente iguais a 1, 2, 3 e 4.***"
      ],
      "metadata": {
        "id": "eThHGUhaPUT5"
      }
    },
    {
      "cell_type": "code",
      "source": [
        "v1 = 5\n",
        "v2 = 12\n",
        "v3 = 20\n",
        "v4 = 15\n",
        "\n",
        "p1 = 1\n",
        "p2 = 2\n",
        "p3 = 3\n",
        "p4 = 4\n",
        "\n",
        "soma_ponderada = ((v1*p1)+(v2*p2)+(v3*p3)+(v4*p4))\n",
        "n = p1 + p2 + p3 + p4\n",
        "media_ponderada = soma_ponderada / n\n",
        "\n",
        "print(f\"A média ponderada é: {media_ponderada}!\")"
      ],
      "metadata": {
        "colab": {
          "base_uri": "https://localhost:8080/"
        },
        "id": "0azcFHFjPPK5",
        "outputId": "1e620507-e243-4cbc-8604-23eab0836bc3"
      },
      "execution_count": null,
      "outputs": [
        {
          "output_type": "stream",
          "name": "stdout",
          "text": [
            "A média ponderada é: 14.9!\n"
          ]
        }
      ]
    },
    {
      "cell_type": "markdown",
      "source": [
        "# ***Editando textos***\n"
      ],
      "metadata": {
        "id": "-k7jXNBWj-yR"
      }
    },
    {
      "cell_type": "markdown",
      "source": [
        "### ***1. Crie uma variável chamada “frase” e atribua a ela uma string de sua escolha. Em seguida, imprima a frase na tela.***"
      ],
      "metadata": {
        "id": "Qli0wIl-kHPm"
      }
    },
    {
      "cell_type": "code",
      "source": [
        "frase = 'Olha que frase legal!'\n",
        "print(frase)"
      ],
      "metadata": {
        "id": "iv9oEuJGQckz",
        "colab": {
          "base_uri": "https://localhost:8080/"
        },
        "outputId": "0fb6a71c-c623-4426-99c5-6273a6c488c6"
      },
      "execution_count": null,
      "outputs": [
        {
          "output_type": "stream",
          "name": "stdout",
          "text": [
            "Olha que frase legal!\n"
          ]
        }
      ]
    },
    {
      "cell_type": "markdown",
      "source": [
        "### ***2. Crie um código que solicite uma frase e depois imprima a frase na tela.***"
      ],
      "metadata": {
        "id": "oAfLZisMk-bm"
      }
    },
    {
      "cell_type": "code",
      "source": [
        "frase = input('Digite uma frase: \\n')\n",
        "print(frase)"
      ],
      "metadata": {
        "colab": {
          "base_uri": "https://localhost:8080/"
        },
        "id": "-pN-QfoTkVYb",
        "outputId": "8fb1731e-0a8b-4c5c-cf18-efa3be4f35f5"
      },
      "execution_count": null,
      "outputs": [
        {
          "output_type": "stream",
          "name": "stdout",
          "text": [
            "Digite uma frase: \n",
            "Frasezona!\n",
            "Frasezona!\n"
          ]
        }
      ]
    },
    {
      "cell_type": "markdown",
      "source": [
        "### ***3. Crie um código que solicite uma frase à pessoa usuária e imprima a mesma frase digitada mas com todas as letras maiúsculas.***"
      ],
      "metadata": {
        "id": "jB_onyEflRY3"
      }
    },
    {
      "cell_type": "code",
      "source": [
        "frase = input('Digite uma frase: \\n')\n",
        "\n",
        "\n",
        "print(frase.upper())"
      ],
      "metadata": {
        "colab": {
          "base_uri": "https://localhost:8080/"
        },
        "id": "euBlo8TylMkF",
        "outputId": "4d923926-d06a-4392-9353-e889151cd3ba"
      },
      "execution_count": null,
      "outputs": [
        {
          "output_type": "stream",
          "name": "stdout",
          "text": [
            "Digite uma frase: \n",
            "frasezona\n",
            "FRASEZONA\n"
          ]
        }
      ]
    },
    {
      "cell_type": "markdown",
      "source": [
        "### ***4. Crie um código que solicite uma frase à pessoa usuária e imprima a mesma frase digitada mas com todas as letras minúsculas.***"
      ],
      "metadata": {
        "id": "psQ4nMJnliw2"
      }
    },
    {
      "cell_type": "code",
      "source": [
        "frase = input('Digite uma frase: \\n')\n",
        "\n",
        "print(frase.lower())"
      ],
      "metadata": {
        "colab": {
          "base_uri": "https://localhost:8080/"
        },
        "id": "XUdWfSt9ldxt",
        "outputId": "27bcdf1a-9e09-4a0f-a2a4-2b9d71cd8484"
      },
      "execution_count": null,
      "outputs": [
        {
          "output_type": "stream",
          "name": "stdout",
          "text": [
            "Digite uma frase: \n",
            "OLHA SÓ\n",
            "olha só\n"
          ]
        }
      ]
    },
    {
      "cell_type": "markdown",
      "source": [
        "### ***5. Crie uma variável chamada “frase” e atribua a ela uma string de sua escolha. Em seguida, imprima a frase sem espaços em branco no início e no fim.***"
      ],
      "metadata": {
        "id": "EZgJAcXcmJbL"
      }
    },
    {
      "cell_type": "code",
      "source": [
        "frase = ' String com espaço na frente e atrás '\n",
        "\n",
        "print(frase.strip())"
      ],
      "metadata": {
        "colab": {
          "base_uri": "https://localhost:8080/"
        },
        "id": "BXsDyDtXloqO",
        "outputId": "3d2c1499-fdc8-43d1-dada-e99a9431edf1"
      },
      "execution_count": null,
      "outputs": [
        {
          "output_type": "stream",
          "name": "stdout",
          "text": [
            "String com espaço na frente e atrás\n"
          ]
        }
      ]
    },
    {
      "cell_type": "markdown",
      "source": [
        "### ***6. Crie um código que solicite uma frase à pessoa usuária e imprima a mesma frase sem espaços em branco no início e no fim.***"
      ],
      "metadata": {
        "id": "JVPd1ullmbGp"
      }
    },
    {
      "cell_type": "code",
      "source": [
        "frase = input('Digite uma frase: \\n')\n",
        "\n",
        "print(frase.strip())"
      ],
      "metadata": {
        "colab": {
          "base_uri": "https://localhost:8080/"
        },
        "id": "PusppRvxmUc5",
        "outputId": "75a0dc78-523e-4214-9d66-6d1f00df1d6e"
      },
      "execution_count": null,
      "outputs": [
        {
          "output_type": "stream",
          "name": "stdout",
          "text": [
            "Digite uma frase: \n",
            "    OLHA SÓ QUANTO ESPAÇO   \n",
            "OLHA SÓ QUANTO ESPAÇO\n"
          ]
        }
      ]
    },
    {
      "cell_type": "markdown",
      "source": [
        "### ***7. Crie um código que solicite uma frase à pessoa usuária e imprima a mesma frase sem espaços em branco no início e no fim e em letras minúsculas.***"
      ],
      "metadata": {
        "id": "VHLHNewunlz2"
      }
    },
    {
      "cell_type": "code",
      "source": [
        "frase = input('Digite uma frase: \\n')\n",
        "\n",
        "print(frase.strip().lower())"
      ],
      "metadata": {
        "colab": {
          "base_uri": "https://localhost:8080/"
        },
        "id": "m0kwKV4OmhW9",
        "outputId": "65d1bab3-be2a-4889-e074-68db30d3c7d2"
      },
      "execution_count": null,
      "outputs": [
        {
          "output_type": "stream",
          "name": "stdout",
          "text": [
            "Digite uma frase: \n",
            "     OLHA SÓ   \n",
            "olha só\n"
          ]
        }
      ]
    },
    {
      "cell_type": "markdown",
      "source": [
        "### ***8. Crie um código que solicite uma frase à pessoa usuária e imprima a mesma frase com todas as vogais “e” trocadas pela letra “f”.***"
      ],
      "metadata": {
        "id": "i9XQBgEoo1GA"
      }
    },
    {
      "cell_type": "code",
      "source": [
        "frase = input('Digite uma frase: \\n')\n",
        "\n",
        "print(frase.replace('e','f'))"
      ],
      "metadata": {
        "colab": {
          "base_uri": "https://localhost:8080/"
        },
        "id": "kBh2AhhxoSHe",
        "outputId": "5a628e17-3893-40e4-d907-30c978b7c24c"
      },
      "execution_count": null,
      "outputs": [
        {
          "output_type": "stream",
          "name": "stdout",
          "text": [
            "Digite uma frase: \n",
            "e sepe ne leve e pe\n",
            "f sfpf nf lfvf f pf\n"
          ]
        }
      ]
    },
    {
      "cell_type": "markdown",
      "source": [
        "### ***9. Crie um código que solicite uma frase à pessoa usuária e imprima a mesma frase com todas as vogais “a” trocadas pela caractere “@”.***"
      ],
      "metadata": {
        "id": "rTYPY_48sW9v"
      }
    },
    {
      "cell_type": "code",
      "source": [
        "frase = input(\"Digite uma frase: \\n\")\n",
        "\n",
        "frase = frase.replace(\"a\", \"\\u0040\")\n",
        "\n",
        "print(frase)\n"
      ],
      "metadata": {
        "colab": {
          "base_uri": "https://localhost:8080/"
        },
        "id": "yRLytO2VrUGc",
        "outputId": "dcaf321f-311f-4fe8-c339-b5b3baec2693"
      },
      "execution_count": null,
      "outputs": [
        {
          "output_type": "stream",
          "name": "stdout",
          "text": [
            "Digite uma frase: \n",
            "Olha só essa frase!\n",
            "Olh@ só ess@ fr@se!\n"
          ]
        }
      ]
    },
    {
      "cell_type": "markdown",
      "source": [
        "### ***10. Crie um código que solicite uma frase à pessoa usuária e imprima a mesma frase com todas as consoantes “s” trocadas pelo caractere “$”.***"
      ],
      "metadata": {
        "id": "GtYXnH8ZtAsx"
      }
    },
    {
      "cell_type": "code",
      "source": [
        "frase = input(\"Digite uma frase: \\n\")\n",
        "\n",
        "frase = frase.replace(\"s\", \"\\u0024\")\n",
        "\n",
        "print(frase)"
      ],
      "metadata": {
        "colab": {
          "base_uri": "https://localhost:8080/"
        },
        "id": "wQzL6a37sxuE",
        "outputId": "35f7bfd3-4916-419b-80e2-fad8c16d9402"
      },
      "execution_count": null,
      "outputs": [
        {
          "output_type": "stream",
          "name": "stdout",
          "text": [
            "Digite uma frase: \n",
            "Olha só essa frase!\n",
            "Olha $ó e$$a fra$e!\n"
          ]
        }
      ]
    },
    {
      "cell_type": "code",
      "source": [],
      "metadata": {
        "id": "tv4d5n2btO48"
      },
      "execution_count": null,
      "outputs": []
    }
  ]
}